{
 "cells": [
  {
   "cell_type": "code",
   "execution_count": 40,
   "metadata": {},
   "outputs": [],
   "source": [
    "# imports\n",
    "\n",
    "import numpy as np\n",
    "import pandas as pd\n",
    "from sklearn.cluster import KMeans\n",
    "import matplotlib.pyplot as plt\n",
    "from sklearn.preprocessing import StandardScaler\n",
    "from sklearn.metrics import silhouette_score, adjusted_rand_score\n",
    "import plotly.express as px\n",
    "\n",
    "\n"
   ]
  },
  {
   "cell_type": "code",
   "execution_count": 4,
   "metadata": {},
   "outputs": [
    {
     "data": {
      "text/html": [
       "<div>\n",
       "<style scoped>\n",
       "    .dataframe tbody tr th:only-of-type {\n",
       "        vertical-align: middle;\n",
       "    }\n",
       "\n",
       "    .dataframe tbody tr th {\n",
       "        vertical-align: top;\n",
       "    }\n",
       "\n",
       "    .dataframe thead th {\n",
       "        text-align: right;\n",
       "    }\n",
       "</style>\n",
       "<table border=\"1\" class=\"dataframe\">\n",
       "  <thead>\n",
       "    <tr style=\"text-align: right;\">\n",
       "      <th></th>\n",
       "      <th>statename</th>\n",
       "      <th>year</th>\n",
       "      <th>month</th>\n",
       "      <th>spend apparel and accessories</th>\n",
       "      <th>spend accommodation and food services</th>\n",
       "      <th>spend arts, entertainment, and recreation</th>\n",
       "      <th>spend all</th>\n",
       "      <th>spend general merchandise + apparel</th>\n",
       "      <th>spend durable goods</th>\n",
       "      <th>spend general merchandise</th>\n",
       "      <th>...</th>\n",
       "      <th>day</th>\n",
       "      <th>time retail and recreation</th>\n",
       "      <th>time grocery and pharmacy</th>\n",
       "      <th>time parks</th>\n",
       "      <th>time transit stations</th>\n",
       "      <th>time workplaces</th>\n",
       "      <th>time residential</th>\n",
       "      <th>time away from home</th>\n",
       "      <th>spend recovered</th>\n",
       "      <th>emp recovered</th>\n",
       "    </tr>\n",
       "  </thead>\n",
       "  <tbody>\n",
       "    <tr>\n",
       "      <th>0</th>\n",
       "      <td>Alabama</td>\n",
       "      <td>2020</td>\n",
       "      <td>1</td>\n",
       "      <td>0.0000</td>\n",
       "      <td>-1.910000e-09</td>\n",
       "      <td>0.0000</td>\n",
       "      <td>0.0000</td>\n",
       "      <td>-2.880000e-08</td>\n",
       "      <td>3.280000e-08</td>\n",
       "      <td>0.0000</td>\n",
       "      <td>...</td>\n",
       "      <td>NaN</td>\n",
       "      <td>NaN</td>\n",
       "      <td>NaN</td>\n",
       "      <td>NaN</td>\n",
       "      <td>NaN</td>\n",
       "      <td>NaN</td>\n",
       "      <td>NaN</td>\n",
       "      <td>NaN</td>\n",
       "      <td>True</td>\n",
       "      <td>False</td>\n",
       "    </tr>\n",
       "    <tr>\n",
       "      <th>1</th>\n",
       "      <td>Alabama</td>\n",
       "      <td>2020</td>\n",
       "      <td>2</td>\n",
       "      <td>-0.0438</td>\n",
       "      <td>2.160000e-02</td>\n",
       "      <td>0.0643</td>\n",
       "      <td>0.0278</td>\n",
       "      <td>2.020000e-02</td>\n",
       "      <td>1.250000e-02</td>\n",
       "      <td>0.0782</td>\n",
       "      <td>...</td>\n",
       "      <td>29.0</td>\n",
       "      <td>0.0900</td>\n",
       "      <td>0.0414</td>\n",
       "      <td>0.191</td>\n",
       "      <td>0.1070</td>\n",
       "      <td>0.010</td>\n",
       "      <td>-0.00571</td>\n",
       "      <td>0.00855</td>\n",
       "      <td>True</td>\n",
       "      <td>True</td>\n",
       "    </tr>\n",
       "    <tr>\n",
       "      <th>2</th>\n",
       "      <td>Alabama</td>\n",
       "      <td>2020</td>\n",
       "      <td>3</td>\n",
       "      <td>-0.3510</td>\n",
       "      <td>-3.800000e-01</td>\n",
       "      <td>-0.3730</td>\n",
       "      <td>-0.0898</td>\n",
       "      <td>-1.460000e-01</td>\n",
       "      <td>-3.850000e-02</td>\n",
       "      <td>0.0646</td>\n",
       "      <td>...</td>\n",
       "      <td>31.0</td>\n",
       "      <td>-0.3340</td>\n",
       "      <td>-0.0643</td>\n",
       "      <td>0.180</td>\n",
       "      <td>-0.2340</td>\n",
       "      <td>-0.344</td>\n",
       "      <td>0.13100</td>\n",
       "      <td>-0.15900</td>\n",
       "      <td>False</td>\n",
       "      <td>False</td>\n",
       "    </tr>\n",
       "    <tr>\n",
       "      <th>3</th>\n",
       "      <td>Alabama</td>\n",
       "      <td>2020</td>\n",
       "      <td>4</td>\n",
       "      <td>-0.5350</td>\n",
       "      <td>-6.060000e-01</td>\n",
       "      <td>-0.6520</td>\n",
       "      <td>-0.2290</td>\n",
       "      <td>-3.190000e-01</td>\n",
       "      <td>1.530000e-02</td>\n",
       "      <td>-0.0916</td>\n",
       "      <td>...</td>\n",
       "      <td>30.0</td>\n",
       "      <td>-0.2400</td>\n",
       "      <td>-0.0300</td>\n",
       "      <td>0.143</td>\n",
       "      <td>-0.2300</td>\n",
       "      <td>-0.347</td>\n",
       "      <td>0.12100</td>\n",
       "      <td>-0.14800</td>\n",
       "      <td>False</td>\n",
       "      <td>False</td>\n",
       "    </tr>\n",
       "    <tr>\n",
       "      <th>4</th>\n",
       "      <td>Alabama</td>\n",
       "      <td>2020</td>\n",
       "      <td>5</td>\n",
       "      <td>-0.1820</td>\n",
       "      <td>-3.820000e-01</td>\n",
       "      <td>-0.4720</td>\n",
       "      <td>-0.1010</td>\n",
       "      <td>-7.270000e-02</td>\n",
       "      <td>1.720000e-01</td>\n",
       "      <td>0.0279</td>\n",
       "      <td>...</td>\n",
       "      <td>31.0</td>\n",
       "      <td>-0.0914</td>\n",
       "      <td>0.0314</td>\n",
       "      <td>0.373</td>\n",
       "      <td>-0.0371</td>\n",
       "      <td>-0.236</td>\n",
       "      <td>0.08290</td>\n",
       "      <td>-0.09430</td>\n",
       "      <td>False</td>\n",
       "      <td>False</td>\n",
       "    </tr>\n",
       "  </tbody>\n",
       "</table>\n",
       "<p>5 rows × 55 columns</p>\n",
       "</div>"
      ],
      "text/plain": [
       "  statename  year  month  spend apparel and accessories  \\\n",
       "0   Alabama  2020      1                         0.0000   \n",
       "1   Alabama  2020      2                        -0.0438   \n",
       "2   Alabama  2020      3                        -0.3510   \n",
       "3   Alabama  2020      4                        -0.5350   \n",
       "4   Alabama  2020      5                        -0.1820   \n",
       "\n",
       "   spend accommodation and food services  \\\n",
       "0                          -1.910000e-09   \n",
       "1                           2.160000e-02   \n",
       "2                          -3.800000e-01   \n",
       "3                          -6.060000e-01   \n",
       "4                          -3.820000e-01   \n",
       "\n",
       "   spend arts, entertainment, and recreation  spend all  \\\n",
       "0                                     0.0000     0.0000   \n",
       "1                                     0.0643     0.0278   \n",
       "2                                    -0.3730    -0.0898   \n",
       "3                                    -0.6520    -0.2290   \n",
       "4                                    -0.4720    -0.1010   \n",
       "\n",
       "   spend general merchandise + apparel  spend durable goods  \\\n",
       "0                        -2.880000e-08         3.280000e-08   \n",
       "1                         2.020000e-02         1.250000e-02   \n",
       "2                        -1.460000e-01        -3.850000e-02   \n",
       "3                        -3.190000e-01         1.530000e-02   \n",
       "4                        -7.270000e-02         1.720000e-01   \n",
       "\n",
       "   spend general merchandise  ...   day  time retail and recreation  \\\n",
       "0                     0.0000  ...   NaN                         NaN   \n",
       "1                     0.0782  ...  29.0                      0.0900   \n",
       "2                     0.0646  ...  31.0                     -0.3340   \n",
       "3                    -0.0916  ...  30.0                     -0.2400   \n",
       "4                     0.0279  ...  31.0                     -0.0914   \n",
       "\n",
       "   time grocery and pharmacy  time parks  time transit stations  \\\n",
       "0                        NaN         NaN                    NaN   \n",
       "1                     0.0414       0.191                 0.1070   \n",
       "2                    -0.0643       0.180                -0.2340   \n",
       "3                    -0.0300       0.143                -0.2300   \n",
       "4                     0.0314       0.373                -0.0371   \n",
       "\n",
       "   time workplaces  time residential  time away from home  spend recovered  \\\n",
       "0              NaN               NaN                  NaN             True   \n",
       "1            0.010          -0.00571              0.00855             True   \n",
       "2           -0.344           0.13100             -0.15900            False   \n",
       "3           -0.347           0.12100             -0.14800            False   \n",
       "4           -0.236           0.08290             -0.09430            False   \n",
       "\n",
       "   emp recovered  \n",
       "0          False  \n",
       "1           True  \n",
       "2          False  \n",
       "3          False  \n",
       "4          False  \n",
       "\n",
       "[5 rows x 55 columns]"
      ]
     },
     "execution_count": 4,
     "metadata": {},
     "output_type": "execute_result"
    }
   ],
   "source": [
    "# load the data\n",
    "data = pd.read_csv('data.csv')\n",
    "data.head()"
   ]
  },
  {
   "cell_type": "code",
   "execution_count": 5,
   "metadata": {},
   "outputs": [
    {
     "data": {
      "text/plain": [
       "Index(['statename', 'year', 'month', 'spend apparel and accessories',\n",
       "       'spend accommodation and food services',\n",
       "       'spend arts, entertainment, and recreation', 'spend all',\n",
       "       'spend general merchandise + apparel', 'spend durable goods',\n",
       "       'spend general merchandise', 'spend grocery and food stores',\n",
       "       'spend health care and social assistance',\n",
       "       'spend home improvement centers', 'spend other in-person services',\n",
       "       'spend non-durable goods', 'spend remote services',\n",
       "       'spend transportation and warehousing', 'spend all_incmiddle',\n",
       "       'spend all q1', 'spend all q2', 'spend all q3', 'spend all q4',\n",
       "       'spend in-person services', 'spend retail excluding grocery',\n",
       "       'spend retail including grocery', 'day_endofweek', 'emp all', 'emp q1',\n",
       "       'emp q2', 'emp q3', 'emp q4', 'emp inc middle', 'emp inc below_median',\n",
       "       'emp inc above median', 'emp trade_transport utilities',\n",
       "       'emp professional business_services', 'emp education health services',\n",
       "       'emp leisure hospitality', 'case_rate', 'death_rate', 'test_rate',\n",
       "       'vaccine_rate', 'fullvaccine_rate', 'booster_first_rate',\n",
       "       'hospitalized_rate', 'day', 'time retail and recreation',\n",
       "       'time grocery and pharmacy', 'time parks', 'time transit stations',\n",
       "       'time workplaces', 'time residential', 'time away from home',\n",
       "       'spend recovered', 'emp recovered'],\n",
       "      dtype='object')"
      ]
     },
     "execution_count": 5,
     "metadata": {},
     "output_type": "execute_result"
    }
   ],
   "source": [
    "data.columns"
   ]
  },
  {
   "cell_type": "markdown",
   "metadata": {},
   "source": [
    "### 1. data prep"
   ]
  },
  {
   "cell_type": "code",
   "execution_count": 46,
   "metadata": {},
   "outputs": [],
   "source": [
    "# filter data for january months after 2020\n",
    "df_jan = data[(data['month'] == 3) & (data['year'] > 2020)]\n",
    "\n",
    "# select relevant features for clustering\n",
    "feats = ['spend recovered', 'vaccine_rate', \n",
    "         'case_rate', 'death_rate', 'hospitalized_rate']\n",
    "\n",
    "X = df_jan[feats].dropna()\n",
    "\n",
    "# keep labels for comparison\n",
    "labels_spend = df_jan.loc[X.index, 'spend recovered']\n",
    "labels_emp = df_jan.loc[X.index, 'emp recovered']"
   ]
  },
  {
   "cell_type": "markdown",
   "metadata": {},
   "source": [
    "### 2. standardize features"
   ]
  },
  {
   "cell_type": "code",
   "execution_count": 47,
   "metadata": {},
   "outputs": [],
   "source": [
    "# standardize the data using scaler\n",
    "scaler = StandardScaler()\n",
    "X_scaled = scaler.fit_transform(X)"
   ]
  },
  {
   "cell_type": "markdown",
   "metadata": {},
   "source": [
    "### 3. fit k-means"
   ]
  },
  {
   "cell_type": "code",
   "execution_count": 54,
   "metadata": {},
   "outputs": [
    {
     "data": {
      "text/html": [
       "<div>\n",
       "<style scoped>\n",
       "    .dataframe tbody tr th:only-of-type {\n",
       "        vertical-align: middle;\n",
       "    }\n",
       "\n",
       "    .dataframe tbody tr th {\n",
       "        vertical-align: top;\n",
       "    }\n",
       "\n",
       "    .dataframe thead th {\n",
       "        text-align: right;\n",
       "    }\n",
       "</style>\n",
       "<table border=\"1\" class=\"dataframe\">\n",
       "  <thead>\n",
       "    <tr style=\"text-align: right;\">\n",
       "      <th></th>\n",
       "      <th>spend recovered</th>\n",
       "      <th>vaccine_rate</th>\n",
       "      <th>case_rate</th>\n",
       "      <th>death_rate</th>\n",
       "      <th>hospitalized_rate</th>\n",
       "      <th>cluster</th>\n",
       "    </tr>\n",
       "  </thead>\n",
       "  <tbody>\n",
       "    <tr>\n",
       "      <th>0</th>\n",
       "      <td>0.944444</td>\n",
       "      <td>83.984050</td>\n",
       "      <td>24598.068996</td>\n",
       "      <td>212.797401</td>\n",
       "      <td>6.938056</td>\n",
       "      <td>0</td>\n",
       "    </tr>\n",
       "    <tr>\n",
       "      <th>1</th>\n",
       "      <td>0.980392</td>\n",
       "      <td>22.702151</td>\n",
       "      <td>8822.852625</td>\n",
       "      <td>149.912587</td>\n",
       "      <td>11.272612</td>\n",
       "      <td>1</td>\n",
       "    </tr>\n",
       "    <tr>\n",
       "      <th>2</th>\n",
       "      <td>1.000000</td>\n",
       "      <td>74.391544</td>\n",
       "      <td>29655.764418</td>\n",
       "      <td>358.851417</td>\n",
       "      <td>8.057732</td>\n",
       "      <td>2</td>\n",
       "    </tr>\n",
       "  </tbody>\n",
       "</table>\n",
       "</div>"
      ],
      "text/plain": [
       "   spend recovered  vaccine_rate     case_rate  death_rate  hospitalized_rate  \\\n",
       "0         0.944444     83.984050  24598.068996  212.797401           6.938056   \n",
       "1         0.980392     22.702151   8822.852625  149.912587          11.272612   \n",
       "2         1.000000     74.391544  29655.764418  358.851417           8.057732   \n",
       "\n",
       "   cluster  \n",
       "0        0  \n",
       "1        1  \n",
       "2        2  "
      ]
     },
     "execution_count": 54,
     "metadata": {},
     "output_type": "execute_result"
    }
   ],
   "source": [
    "# define k\n",
    "k = 3\n",
    "\n",
    "# fit kmeans\n",
    "kmeans = KMeans(n_clusters=k, random_state=8)\n",
    "df_jan = df_jan.loc[X.index]\n",
    "df_jan['cluster'] = kmeans.fit_predict(X_scaled)\n",
    "\n",
    "centroids = pd.DataFrame(scaler.inverse_transform(kmeans.cluster_centers_), columns=feats)\n",
    "centroids['cluster'] = range(k)\n",
    "centroids\n",
    "\n"
   ]
  },
  {
   "cell_type": "code",
   "execution_count": 55,
   "metadata": {},
   "outputs": [
    {
     "data": {
      "application/vnd.plotly.v1+json": {
       "config": {
        "plotlyServerURL": "https://plot.ly"
       },
       "data": [
        {
         "coloraxis": "coloraxis",
         "geo": "geo",
         "hovertemplate": "state_abbrev=%{location}<br>cluster=%{z}<extra></extra>",
         "locationmode": "USA-states",
         "locations": [
          "AL",
          "AL",
          "AL",
          "AK",
          "AK",
          "AK",
          "AZ",
          "AZ",
          "AZ",
          "AR",
          "AR",
          "AR",
          "CA",
          "CA",
          "CA",
          "CO",
          "CO",
          "CO",
          "CT",
          "CT",
          "CT",
          "DE",
          "DE",
          "DE",
          "DC",
          "DC",
          "DC",
          "FL",
          "FL",
          "FL",
          "GA",
          "GA",
          "GA",
          "HI",
          "HI",
          "HI",
          "ID",
          "ID",
          "ID",
          "IL",
          "IL",
          "IL",
          "IN",
          "IN",
          "IN",
          "IA",
          "IA",
          "IA",
          "KS",
          "KS",
          "KS",
          "KY",
          "KY",
          "KY",
          "LA",
          "LA",
          "LA",
          "ME",
          "ME",
          "ME",
          "MD",
          "MD",
          "MD",
          "MA",
          "MA",
          "MA",
          "MI",
          "MI",
          "MI",
          "MN",
          "MN",
          "MN",
          "MS",
          "MS",
          "MS",
          "MO",
          "MO",
          "MO",
          "MT",
          "MT",
          "MT",
          "NE",
          "NE",
          "NE",
          "NV",
          "NV",
          "NV",
          "NH",
          "NH",
          "NH",
          "NJ",
          "NJ",
          "NJ",
          "NM",
          "NM",
          "NM",
          "NY",
          "NY",
          "NY",
          "NC",
          "NC",
          "NC",
          "ND",
          "ND",
          "ND",
          "OH",
          "OH",
          "OH",
          "OK",
          "OK",
          "OK",
          "OR",
          "OR",
          "OR",
          "PA",
          "PA",
          "PA",
          "RI",
          "RI",
          "RI",
          "SC",
          "SC",
          "SC",
          "SD",
          "SD",
          "SD",
          "TN",
          "TN",
          "TN",
          "TX",
          "TX",
          "TX",
          "UT",
          "UT",
          "UT",
          "VT",
          "VT",
          "VT",
          "VA",
          "VA",
          "VA",
          "WA",
          "WA",
          "WA",
          "WV",
          "WV",
          "WV",
          "WI",
          "WI",
          "WI",
          "WY",
          "WY",
          "WY"
         ],
         "name": "",
         "type": "choropleth",
         "z": {
          "bdata": "AQAAAAIAAAACAAAAAQAAAAAAAAAAAAAAAQAAAAIAAAACAAAAAQAAAAIAAAACAAAAAQAAAAAAAAAAAAAAAQAAAAAAAAAAAAAAAQAAAAAAAAACAAAAAQAAAAIAAAACAAAAAQAAAAAAAAAAAAAAAQAAAAIAAAACAAAAAQAAAAIAAAACAAAAAQAAAAAAAAAAAAAAAQAAAAAAAAACAAAAAQAAAAAAAAACAAAAAQAAAAIAAAACAAAAAQAAAAAAAAACAAAAAQAAAAIAAAACAAAAAQAAAAIAAAACAAAAAQAAAAIAAAACAAAAAQAAAAAAAAAAAAAAAQAAAAAAAAAAAAAAAQAAAAAAAAACAAAAAQAAAAIAAAACAAAAAQAAAAAAAAAAAAAAAQAAAAIAAAACAAAAAQAAAAIAAAACAAAAAQAAAAIAAAACAAAAAQAAAAAAAAACAAAAAQAAAAIAAAACAAAAAQAAAAAAAAAAAAAAAQAAAAIAAAACAAAAAQAAAAIAAAACAAAAAQAAAAIAAAACAAAAAQAAAAAAAAACAAAAAQAAAAIAAAACAAAAAQAAAAIAAAACAAAAAQAAAAIAAAACAAAAAQAAAAAAAAAAAAAAAQAAAAIAAAACAAAAAQAAAAIAAAACAAAAAQAAAAIAAAACAAAAAQAAAAIAAAACAAAAAQAAAAIAAAACAAAAAQAAAAIAAAACAAAAAQAAAAAAAAAAAAAAAQAAAAAAAAAAAAAAAQAAAAAAAAAAAAAAAQAAAAAAAAAAAAAAAQAAAAIAAAACAAAAAQAAAAAAAAACAAAAAQAAAAIAAAACAAAA",
          "dtype": "i4"
         }
        }
       ],
       "layout": {
        "coloraxis": {
         "colorbar": {
          "title": {
           "text": "cluster"
          }
         },
         "colorscale": [
          [
           0,
           "#440154"
          ],
          [
           0.1111111111111111,
           "#482878"
          ],
          [
           0.2222222222222222,
           "#3e4989"
          ],
          [
           0.3333333333333333,
           "#31688e"
          ],
          [
           0.4444444444444444,
           "#26828e"
          ],
          [
           0.5555555555555556,
           "#1f9e89"
          ],
          [
           0.6666666666666666,
           "#35b779"
          ],
          [
           0.7777777777777778,
           "#6ece58"
          ],
          [
           0.8888888888888888,
           "#b5de2b"
          ],
          [
           1,
           "#fde725"
          ]
         ]
        },
        "geo": {
         "center": {},
         "domain": {
          "x": [
           0,
           1
          ],
          "y": [
           0,
           1
          ]
         },
         "scope": "usa"
        },
        "legend": {
         "tracegroupgap": 0
        },
        "template": {
         "data": {
          "bar": [
           {
            "error_x": {
             "color": "#2a3f5f"
            },
            "error_y": {
             "color": "#2a3f5f"
            },
            "marker": {
             "line": {
              "color": "#E5ECF6",
              "width": 0.5
             },
             "pattern": {
              "fillmode": "overlay",
              "size": 10,
              "solidity": 0.2
             }
            },
            "type": "bar"
           }
          ],
          "barpolar": [
           {
            "marker": {
             "line": {
              "color": "#E5ECF6",
              "width": 0.5
             },
             "pattern": {
              "fillmode": "overlay",
              "size": 10,
              "solidity": 0.2
             }
            },
            "type": "barpolar"
           }
          ],
          "carpet": [
           {
            "aaxis": {
             "endlinecolor": "#2a3f5f",
             "gridcolor": "white",
             "linecolor": "white",
             "minorgridcolor": "white",
             "startlinecolor": "#2a3f5f"
            },
            "baxis": {
             "endlinecolor": "#2a3f5f",
             "gridcolor": "white",
             "linecolor": "white",
             "minorgridcolor": "white",
             "startlinecolor": "#2a3f5f"
            },
            "type": "carpet"
           }
          ],
          "choropleth": [
           {
            "colorbar": {
             "outlinewidth": 0,
             "ticks": ""
            },
            "type": "choropleth"
           }
          ],
          "contour": [
           {
            "colorbar": {
             "outlinewidth": 0,
             "ticks": ""
            },
            "colorscale": [
             [
              0,
              "#0d0887"
             ],
             [
              0.1111111111111111,
              "#46039f"
             ],
             [
              0.2222222222222222,
              "#7201a8"
             ],
             [
              0.3333333333333333,
              "#9c179e"
             ],
             [
              0.4444444444444444,
              "#bd3786"
             ],
             [
              0.5555555555555556,
              "#d8576b"
             ],
             [
              0.6666666666666666,
              "#ed7953"
             ],
             [
              0.7777777777777778,
              "#fb9f3a"
             ],
             [
              0.8888888888888888,
              "#fdca26"
             ],
             [
              1,
              "#f0f921"
             ]
            ],
            "type": "contour"
           }
          ],
          "contourcarpet": [
           {
            "colorbar": {
             "outlinewidth": 0,
             "ticks": ""
            },
            "type": "contourcarpet"
           }
          ],
          "heatmap": [
           {
            "colorbar": {
             "outlinewidth": 0,
             "ticks": ""
            },
            "colorscale": [
             [
              0,
              "#0d0887"
             ],
             [
              0.1111111111111111,
              "#46039f"
             ],
             [
              0.2222222222222222,
              "#7201a8"
             ],
             [
              0.3333333333333333,
              "#9c179e"
             ],
             [
              0.4444444444444444,
              "#bd3786"
             ],
             [
              0.5555555555555556,
              "#d8576b"
             ],
             [
              0.6666666666666666,
              "#ed7953"
             ],
             [
              0.7777777777777778,
              "#fb9f3a"
             ],
             [
              0.8888888888888888,
              "#fdca26"
             ],
             [
              1,
              "#f0f921"
             ]
            ],
            "type": "heatmap"
           }
          ],
          "histogram": [
           {
            "marker": {
             "pattern": {
              "fillmode": "overlay",
              "size": 10,
              "solidity": 0.2
             }
            },
            "type": "histogram"
           }
          ],
          "histogram2d": [
           {
            "colorbar": {
             "outlinewidth": 0,
             "ticks": ""
            },
            "colorscale": [
             [
              0,
              "#0d0887"
             ],
             [
              0.1111111111111111,
              "#46039f"
             ],
             [
              0.2222222222222222,
              "#7201a8"
             ],
             [
              0.3333333333333333,
              "#9c179e"
             ],
             [
              0.4444444444444444,
              "#bd3786"
             ],
             [
              0.5555555555555556,
              "#d8576b"
             ],
             [
              0.6666666666666666,
              "#ed7953"
             ],
             [
              0.7777777777777778,
              "#fb9f3a"
             ],
             [
              0.8888888888888888,
              "#fdca26"
             ],
             [
              1,
              "#f0f921"
             ]
            ],
            "type": "histogram2d"
           }
          ],
          "histogram2dcontour": [
           {
            "colorbar": {
             "outlinewidth": 0,
             "ticks": ""
            },
            "colorscale": [
             [
              0,
              "#0d0887"
             ],
             [
              0.1111111111111111,
              "#46039f"
             ],
             [
              0.2222222222222222,
              "#7201a8"
             ],
             [
              0.3333333333333333,
              "#9c179e"
             ],
             [
              0.4444444444444444,
              "#bd3786"
             ],
             [
              0.5555555555555556,
              "#d8576b"
             ],
             [
              0.6666666666666666,
              "#ed7953"
             ],
             [
              0.7777777777777778,
              "#fb9f3a"
             ],
             [
              0.8888888888888888,
              "#fdca26"
             ],
             [
              1,
              "#f0f921"
             ]
            ],
            "type": "histogram2dcontour"
           }
          ],
          "mesh3d": [
           {
            "colorbar": {
             "outlinewidth": 0,
             "ticks": ""
            },
            "type": "mesh3d"
           }
          ],
          "parcoords": [
           {
            "line": {
             "colorbar": {
              "outlinewidth": 0,
              "ticks": ""
             }
            },
            "type": "parcoords"
           }
          ],
          "pie": [
           {
            "automargin": true,
            "type": "pie"
           }
          ],
          "scatter": [
           {
            "fillpattern": {
             "fillmode": "overlay",
             "size": 10,
             "solidity": 0.2
            },
            "type": "scatter"
           }
          ],
          "scatter3d": [
           {
            "line": {
             "colorbar": {
              "outlinewidth": 0,
              "ticks": ""
             }
            },
            "marker": {
             "colorbar": {
              "outlinewidth": 0,
              "ticks": ""
             }
            },
            "type": "scatter3d"
           }
          ],
          "scattercarpet": [
           {
            "marker": {
             "colorbar": {
              "outlinewidth": 0,
              "ticks": ""
             }
            },
            "type": "scattercarpet"
           }
          ],
          "scattergeo": [
           {
            "marker": {
             "colorbar": {
              "outlinewidth": 0,
              "ticks": ""
             }
            },
            "type": "scattergeo"
           }
          ],
          "scattergl": [
           {
            "marker": {
             "colorbar": {
              "outlinewidth": 0,
              "ticks": ""
             }
            },
            "type": "scattergl"
           }
          ],
          "scattermap": [
           {
            "marker": {
             "colorbar": {
              "outlinewidth": 0,
              "ticks": ""
             }
            },
            "type": "scattermap"
           }
          ],
          "scattermapbox": [
           {
            "marker": {
             "colorbar": {
              "outlinewidth": 0,
              "ticks": ""
             }
            },
            "type": "scattermapbox"
           }
          ],
          "scatterpolar": [
           {
            "marker": {
             "colorbar": {
              "outlinewidth": 0,
              "ticks": ""
             }
            },
            "type": "scatterpolar"
           }
          ],
          "scatterpolargl": [
           {
            "marker": {
             "colorbar": {
              "outlinewidth": 0,
              "ticks": ""
             }
            },
            "type": "scatterpolargl"
           }
          ],
          "scatterternary": [
           {
            "marker": {
             "colorbar": {
              "outlinewidth": 0,
              "ticks": ""
             }
            },
            "type": "scatterternary"
           }
          ],
          "surface": [
           {
            "colorbar": {
             "outlinewidth": 0,
             "ticks": ""
            },
            "colorscale": [
             [
              0,
              "#0d0887"
             ],
             [
              0.1111111111111111,
              "#46039f"
             ],
             [
              0.2222222222222222,
              "#7201a8"
             ],
             [
              0.3333333333333333,
              "#9c179e"
             ],
             [
              0.4444444444444444,
              "#bd3786"
             ],
             [
              0.5555555555555556,
              "#d8576b"
             ],
             [
              0.6666666666666666,
              "#ed7953"
             ],
             [
              0.7777777777777778,
              "#fb9f3a"
             ],
             [
              0.8888888888888888,
              "#fdca26"
             ],
             [
              1,
              "#f0f921"
             ]
            ],
            "type": "surface"
           }
          ],
          "table": [
           {
            "cells": {
             "fill": {
              "color": "#EBF0F8"
             },
             "line": {
              "color": "white"
             }
            },
            "header": {
             "fill": {
              "color": "#C8D4E3"
             },
             "line": {
              "color": "white"
             }
            },
            "type": "table"
           }
          ]
         },
         "layout": {
          "annotationdefaults": {
           "arrowcolor": "#2a3f5f",
           "arrowhead": 0,
           "arrowwidth": 1
          },
          "autotypenumbers": "strict",
          "coloraxis": {
           "colorbar": {
            "outlinewidth": 0,
            "ticks": ""
           }
          },
          "colorscale": {
           "diverging": [
            [
             0,
             "#8e0152"
            ],
            [
             0.1,
             "#c51b7d"
            ],
            [
             0.2,
             "#de77ae"
            ],
            [
             0.3,
             "#f1b6da"
            ],
            [
             0.4,
             "#fde0ef"
            ],
            [
             0.5,
             "#f7f7f7"
            ],
            [
             0.6,
             "#e6f5d0"
            ],
            [
             0.7,
             "#b8e186"
            ],
            [
             0.8,
             "#7fbc41"
            ],
            [
             0.9,
             "#4d9221"
            ],
            [
             1,
             "#276419"
            ]
           ],
           "sequential": [
            [
             0,
             "#0d0887"
            ],
            [
             0.1111111111111111,
             "#46039f"
            ],
            [
             0.2222222222222222,
             "#7201a8"
            ],
            [
             0.3333333333333333,
             "#9c179e"
            ],
            [
             0.4444444444444444,
             "#bd3786"
            ],
            [
             0.5555555555555556,
             "#d8576b"
            ],
            [
             0.6666666666666666,
             "#ed7953"
            ],
            [
             0.7777777777777778,
             "#fb9f3a"
            ],
            [
             0.8888888888888888,
             "#fdca26"
            ],
            [
             1,
             "#f0f921"
            ]
           ],
           "sequentialminus": [
            [
             0,
             "#0d0887"
            ],
            [
             0.1111111111111111,
             "#46039f"
            ],
            [
             0.2222222222222222,
             "#7201a8"
            ],
            [
             0.3333333333333333,
             "#9c179e"
            ],
            [
             0.4444444444444444,
             "#bd3786"
            ],
            [
             0.5555555555555556,
             "#d8576b"
            ],
            [
             0.6666666666666666,
             "#ed7953"
            ],
            [
             0.7777777777777778,
             "#fb9f3a"
            ],
            [
             0.8888888888888888,
             "#fdca26"
            ],
            [
             1,
             "#f0f921"
            ]
           ]
          },
          "colorway": [
           "#636efa",
           "#EF553B",
           "#00cc96",
           "#ab63fa",
           "#FFA15A",
           "#19d3f3",
           "#FF6692",
           "#B6E880",
           "#FF97FF",
           "#FECB52"
          ],
          "font": {
           "color": "#2a3f5f"
          },
          "geo": {
           "bgcolor": "white",
           "lakecolor": "white",
           "landcolor": "#E5ECF6",
           "showlakes": true,
           "showland": true,
           "subunitcolor": "white"
          },
          "hoverlabel": {
           "align": "left"
          },
          "hovermode": "closest",
          "mapbox": {
           "style": "light"
          },
          "paper_bgcolor": "white",
          "plot_bgcolor": "#E5ECF6",
          "polar": {
           "angularaxis": {
            "gridcolor": "white",
            "linecolor": "white",
            "ticks": ""
           },
           "bgcolor": "#E5ECF6",
           "radialaxis": {
            "gridcolor": "white",
            "linecolor": "white",
            "ticks": ""
           }
          },
          "scene": {
           "xaxis": {
            "backgroundcolor": "#E5ECF6",
            "gridcolor": "white",
            "gridwidth": 2,
            "linecolor": "white",
            "showbackground": true,
            "ticks": "",
            "zerolinecolor": "white"
           },
           "yaxis": {
            "backgroundcolor": "#E5ECF6",
            "gridcolor": "white",
            "gridwidth": 2,
            "linecolor": "white",
            "showbackground": true,
            "ticks": "",
            "zerolinecolor": "white"
           },
           "zaxis": {
            "backgroundcolor": "#E5ECF6",
            "gridcolor": "white",
            "gridwidth": 2,
            "linecolor": "white",
            "showbackground": true,
            "ticks": "",
            "zerolinecolor": "white"
           }
          },
          "shapedefaults": {
           "line": {
            "color": "#2a3f5f"
           }
          },
          "ternary": {
           "aaxis": {
            "gridcolor": "white",
            "linecolor": "white",
            "ticks": ""
           },
           "baxis": {
            "gridcolor": "white",
            "linecolor": "white",
            "ticks": ""
           },
           "bgcolor": "#E5ECF6",
           "caxis": {
            "gridcolor": "white",
            "linecolor": "white",
            "ticks": ""
           }
          },
          "title": {
           "x": 0.05
          },
          "xaxis": {
           "automargin": true,
           "gridcolor": "white",
           "linecolor": "white",
           "ticks": "",
           "title": {
            "standoff": 15
           },
           "zerolinecolor": "white",
           "zerolinewidth": 2
          },
          "yaxis": {
           "automargin": true,
           "gridcolor": "white",
           "linecolor": "white",
           "ticks": "",
           "title": {
            "standoff": 15
           },
           "zerolinecolor": "white",
           "zerolinewidth": 2
          }
         }
        },
        "title": {
         "text": "State Clusters by Economic Recovery Patterns"
        }
       }
      }
     },
     "metadata": {},
     "output_type": "display_data"
    }
   ],
   "source": [
    "state_abbrev = {\n",
    "    'Alabama': 'AL', 'Alaska': 'AK', 'Arizona': 'AZ', 'Arkansas': 'AR', 'California': 'CA', 'Colorado': 'CO', 'Connecticut': 'CT',\n",
    "    'Delaware': 'DE', 'Florida': 'FL', 'Georgia': 'GA', 'Hawaii': 'HI', 'Idaho': 'ID', 'Illinois': 'IL', 'Indiana': 'IN',\n",
    "    'Iowa': 'IA', 'Kansas': 'KS', 'Kentucky': 'KY', 'Louisiana': 'LA', 'Maine': 'ME', 'Maryland': 'MD', 'Massachusetts': 'MA',\n",
    "    'Michigan': 'MI', 'Minnesota': 'MN', 'Mississippi': 'MS', 'Missouri': 'MO', 'Montana': 'MT', 'Nebraska': 'NE', 'Nevada': 'NV',\n",
    "    'New Hampshire': 'NH', 'New Jersey': 'NJ', 'New Mexico': 'NM', 'New York': 'NY', 'North Carolina': 'NC', 'North Dakota': 'ND',\n",
    "    'Ohio': 'OH', 'Oklahoma': 'OK', 'Oregon': 'OR', 'Pennsylvania': 'PA', 'Rhode Island': 'RI', 'South Carolina': 'SC', 'South Dakota': 'SD',\n",
    "    'Tennessee': 'TN', 'Texas': 'TX', 'Utah': 'UT', 'Vermont': 'VT', 'Virginia': 'VA', 'Washington': 'WA', 'West Virginia': 'WV',\n",
    "    'Wisconsin': 'WI', 'Wyoming': 'WY', 'District of Columbia': 'DC'\n",
    "}\n",
    "\n",
    "df_jan['state_abbrev'] = df_jan['statename'].map(state_abbrev)\n",
    "\n",
    "fig = px.choropleth(\n",
    "    df_jan,\n",
    "    locations='state_abbrev',\n",
    "    locationmode='USA-states',\n",
    "    color='cluster',\n",
    "    scope='usa',\n",
    "    title='State Clusters by Economic Recovery Patterns',\n",
    "    color_continuous_scale='Viridis'\n",
    ")\n",
    "fig.show()\n"
   ]
  },
  {
   "cell_type": "code",
   "execution_count": null,
   "metadata": {},
   "outputs": [],
   "source": []
  },
  {
   "cell_type": "code",
   "execution_count": null,
   "metadata": {},
   "outputs": [],
   "source": []
  }
 ],
 "metadata": {
  "kernelspec": {
   "display_name": "Python 3",
   "language": "python",
   "name": "python3"
  },
  "language_info": {
   "codemirror_mode": {
    "name": "ipython",
    "version": 3
   },
   "file_extension": ".py",
   "mimetype": "text/x-python",
   "name": "python",
   "nbconvert_exporter": "python",
   "pygments_lexer": "ipython3",
   "version": "3.11.5"
  }
 },
 "nbformat": 4,
 "nbformat_minor": 2
}
