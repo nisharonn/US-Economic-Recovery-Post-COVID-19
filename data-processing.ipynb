{
 "cells": [
  {
   "cell_type": "code",
   "execution_count": 1,
   "metadata": {},
   "outputs": [],
   "source": [
    "# imports\n",
    "import pandas as pd\n",
    "import numpy as np\n",
    "\n",
    "# choropleth\n",
    "import geopandas as gdp\n",
    "import plotly.express as px\n",
    "import us"
   ]
  },
  {
   "cell_type": "markdown",
   "metadata": {},
   "source": [
    "### 1. combine and merge datasets"
   ]
  },
  {
   "cell_type": "code",
   "execution_count": 2,
   "metadata": {},
   "outputs": [
    {
     "data": {
      "text/html": [
       "<div>\n",
       "<style scoped>\n",
       "    .dataframe tbody tr th:only-of-type {\n",
       "        vertical-align: middle;\n",
       "    }\n",
       "\n",
       "    .dataframe tbody tr th {\n",
       "        vertical-align: top;\n",
       "    }\n",
       "\n",
       "    .dataframe thead th {\n",
       "        text-align: right;\n",
       "    }\n",
       "</style>\n",
       "<table border=\"1\" class=\"dataframe\">\n",
       "  <thead>\n",
       "    <tr style=\"text-align: right;\">\n",
       "      <th></th>\n",
       "      <th>statename</th>\n",
       "      <th>year</th>\n",
       "      <th>month</th>\n",
       "      <th>spend apparel and accessories</th>\n",
       "      <th>spend accommodation and food services</th>\n",
       "      <th>spend arts, entertainment, and recreation</th>\n",
       "      <th>spend all</th>\n",
       "      <th>spend general merchandise + apparel</th>\n",
       "      <th>spend durable goods</th>\n",
       "      <th>spend general merchandise</th>\n",
       "      <th>...</th>\n",
       "      <th>spend remote services</th>\n",
       "      <th>spend transportation and warehousing</th>\n",
       "      <th>spend all_incmiddle</th>\n",
       "      <th>spend all q1</th>\n",
       "      <th>spend all q2</th>\n",
       "      <th>spend all q3</th>\n",
       "      <th>spend all q4</th>\n",
       "      <th>spend in-person services</th>\n",
       "      <th>spend retail excluding grocery</th>\n",
       "      <th>spend retail including grocery</th>\n",
       "    </tr>\n",
       "  </thead>\n",
       "  <tbody>\n",
       "    <tr>\n",
       "      <th>0</th>\n",
       "      <td>Alabama</td>\n",
       "      <td>2020</td>\n",
       "      <td>1</td>\n",
       "      <td>0.00000</td>\n",
       "      <td>-1.910000e-09</td>\n",
       "      <td>0.0000</td>\n",
       "      <td>0.0000</td>\n",
       "      <td>-2.880000e-08</td>\n",
       "      <td>3.280000e-08</td>\n",
       "      <td>0.0000</td>\n",
       "      <td>...</td>\n",
       "      <td>-6.630000e-09</td>\n",
       "      <td>0.0000</td>\n",
       "      <td>8.100000e-08</td>\n",
       "      <td>0.0000</td>\n",
       "      <td>0.0000</td>\n",
       "      <td>0.0000</td>\n",
       "      <td>0.0000</td>\n",
       "      <td>-3.680000e-08</td>\n",
       "      <td>-4.440000e-08</td>\n",
       "      <td>4.360000e-08</td>\n",
       "    </tr>\n",
       "    <tr>\n",
       "      <th>1</th>\n",
       "      <td>Alabama</td>\n",
       "      <td>2020</td>\n",
       "      <td>2</td>\n",
       "      <td>-0.04380</td>\n",
       "      <td>2.160000e-02</td>\n",
       "      <td>0.0643</td>\n",
       "      <td>0.0278</td>\n",
       "      <td>2.020000e-02</td>\n",
       "      <td>1.250000e-02</td>\n",
       "      <td>0.0782</td>\n",
       "      <td>...</td>\n",
       "      <td>4.500000e-02</td>\n",
       "      <td>-0.0412</td>\n",
       "      <td>8.730000e-03</td>\n",
       "      <td>0.0514</td>\n",
       "      <td>-0.0106</td>\n",
       "      <td>0.0348</td>\n",
       "      <td>0.0408</td>\n",
       "      <td>2.190000e-04</td>\n",
       "      <td>2.340000e-02</td>\n",
       "      <td>5.010000e-02</td>\n",
       "    </tr>\n",
       "    <tr>\n",
       "      <th>2</th>\n",
       "      <td>Alabama</td>\n",
       "      <td>2020</td>\n",
       "      <td>3</td>\n",
       "      <td>-0.35100</td>\n",
       "      <td>-3.800000e-01</td>\n",
       "      <td>-0.3730</td>\n",
       "      <td>-0.0898</td>\n",
       "      <td>-1.460000e-01</td>\n",
       "      <td>-3.850000e-02</td>\n",
       "      <td>0.0646</td>\n",
       "      <td>...</td>\n",
       "      <td>-2.870000e-02</td>\n",
       "      <td>-0.4600</td>\n",
       "      <td>-1.050000e-01</td>\n",
       "      <td>-0.0571</td>\n",
       "      <td>-0.1090</td>\n",
       "      <td>-0.0996</td>\n",
       "      <td>-0.1080</td>\n",
       "      <td>-3.280000e-01</td>\n",
       "      <td>-8.410000e-02</td>\n",
       "      <td>8.000000e-02</td>\n",
       "    </tr>\n",
       "    <tr>\n",
       "      <th>3</th>\n",
       "      <td>Alabama</td>\n",
       "      <td>2020</td>\n",
       "      <td>4</td>\n",
       "      <td>-0.53500</td>\n",
       "      <td>-6.060000e-01</td>\n",
       "      <td>-0.6520</td>\n",
       "      <td>-0.2290</td>\n",
       "      <td>-3.190000e-01</td>\n",
       "      <td>1.530000e-02</td>\n",
       "      <td>-0.0916</td>\n",
       "      <td>...</td>\n",
       "      <td>-1.210000e-01</td>\n",
       "      <td>-0.6440</td>\n",
       "      <td>-2.620000e-01</td>\n",
       "      <td>-0.1630</td>\n",
       "      <td>-0.2700</td>\n",
       "      <td>-0.2520</td>\n",
       "      <td>-0.2620</td>\n",
       "      <td>-5.840000e-01</td>\n",
       "      <td>-1.450000e-01</td>\n",
       "      <td>-3.380000e-02</td>\n",
       "    </tr>\n",
       "    <tr>\n",
       "      <th>4</th>\n",
       "      <td>Alabama</td>\n",
       "      <td>2020</td>\n",
       "      <td>5</td>\n",
       "      <td>-0.18200</td>\n",
       "      <td>-3.820000e-01</td>\n",
       "      <td>-0.4720</td>\n",
       "      <td>-0.1010</td>\n",
       "      <td>-7.270000e-02</td>\n",
       "      <td>1.720000e-01</td>\n",
       "      <td>0.0279</td>\n",
       "      <td>...</td>\n",
       "      <td>-5.080000e-02</td>\n",
       "      <td>-0.6160</td>\n",
       "      <td>-1.330000e-01</td>\n",
       "      <td>-0.0346</td>\n",
       "      <td>-0.1550</td>\n",
       "      <td>-0.1030</td>\n",
       "      <td>-0.1400</td>\n",
       "      <td>-3.680000e-01</td>\n",
       "      <td>1.160000e-01</td>\n",
       "      <td>1.290000e-01</td>\n",
       "    </tr>\n",
       "    <tr>\n",
       "      <th>...</th>\n",
       "      <td>...</td>\n",
       "      <td>...</td>\n",
       "      <td>...</td>\n",
       "      <td>...</td>\n",
       "      <td>...</td>\n",
       "      <td>...</td>\n",
       "      <td>...</td>\n",
       "      <td>...</td>\n",
       "      <td>...</td>\n",
       "      <td>...</td>\n",
       "      <td>...</td>\n",
       "      <td>...</td>\n",
       "      <td>...</td>\n",
       "      <td>...</td>\n",
       "      <td>...</td>\n",
       "      <td>...</td>\n",
       "      <td>...</td>\n",
       "      <td>...</td>\n",
       "      <td>...</td>\n",
       "      <td>...</td>\n",
       "      <td>...</td>\n",
       "    </tr>\n",
       "    <tr>\n",
       "      <th>3514</th>\n",
       "      <td>Wyoming</td>\n",
       "      <td>2025</td>\n",
       "      <td>5</td>\n",
       "      <td>0.04100</td>\n",
       "      <td>2.570000e-01</td>\n",
       "      <td>0.1210</td>\n",
       "      <td>0.3640</td>\n",
       "      <td>7.310000e-01</td>\n",
       "      <td>3.330000e-01</td>\n",
       "      <td>1.3000</td>\n",
       "      <td>...</td>\n",
       "      <td>6.370000e-01</td>\n",
       "      <td>0.1660</td>\n",
       "      <td>3.860000e-01</td>\n",
       "      <td>0.4240</td>\n",
       "      <td>0.4800</td>\n",
       "      <td>0.3000</td>\n",
       "      <td>0.2810</td>\n",
       "      <td>-9.490000e-02</td>\n",
       "      <td>4.700000e-01</td>\n",
       "      <td>3.550000e-01</td>\n",
       "    </tr>\n",
       "    <tr>\n",
       "      <th>3515</th>\n",
       "      <td>Wyoming</td>\n",
       "      <td>2025</td>\n",
       "      <td>6</td>\n",
       "      <td>0.03540</td>\n",
       "      <td>2.330000e-01</td>\n",
       "      <td>0.2850</td>\n",
       "      <td>0.3570</td>\n",
       "      <td>7.770000e-01</td>\n",
       "      <td>2.620000e-01</td>\n",
       "      <td>1.4000</td>\n",
       "      <td>...</td>\n",
       "      <td>6.540000e-01</td>\n",
       "      <td>0.0567</td>\n",
       "      <td>3.690000e-01</td>\n",
       "      <td>0.4200</td>\n",
       "      <td>0.4650</td>\n",
       "      <td>0.2810</td>\n",
       "      <td>0.3120</td>\n",
       "      <td>-3.760000e-02</td>\n",
       "      <td>4.240000e-01</td>\n",
       "      <td>3.170000e-01</td>\n",
       "    </tr>\n",
       "    <tr>\n",
       "      <th>3516</th>\n",
       "      <td>Wyoming</td>\n",
       "      <td>2025</td>\n",
       "      <td>7</td>\n",
       "      <td>0.04590</td>\n",
       "      <td>2.700000e-01</td>\n",
       "      <td>0.6930</td>\n",
       "      <td>0.4110</td>\n",
       "      <td>8.850000e-01</td>\n",
       "      <td>3.200000e-01</td>\n",
       "      <td>1.6100</td>\n",
       "      <td>...</td>\n",
       "      <td>6.480000e-01</td>\n",
       "      <td>0.3090</td>\n",
       "      <td>4.240000e-01</td>\n",
       "      <td>0.4590</td>\n",
       "      <td>0.5010</td>\n",
       "      <td>0.3520</td>\n",
       "      <td>0.3610</td>\n",
       "      <td>-2.120000e-01</td>\n",
       "      <td>5.330000e-01</td>\n",
       "      <td>3.880000e-01</td>\n",
       "    </tr>\n",
       "    <tr>\n",
       "      <th>3517</th>\n",
       "      <td>Wyoming</td>\n",
       "      <td>2025</td>\n",
       "      <td>8</td>\n",
       "      <td>0.00191</td>\n",
       "      <td>2.530000e-01</td>\n",
       "      <td>0.4470</td>\n",
       "      <td>0.3600</td>\n",
       "      <td>8.030000e-01</td>\n",
       "      <td>2.170000e-01</td>\n",
       "      <td>1.5600</td>\n",
       "      <td>...</td>\n",
       "      <td>5.760000e-01</td>\n",
       "      <td>0.3400</td>\n",
       "      <td>3.550000e-01</td>\n",
       "      <td>0.4920</td>\n",
       "      <td>0.4110</td>\n",
       "      <td>0.3030</td>\n",
       "      <td>0.3380</td>\n",
       "      <td>-8.130000e-02</td>\n",
       "      <td>4.080000e-01</td>\n",
       "      <td>3.280000e-01</td>\n",
       "    </tr>\n",
       "    <tr>\n",
       "      <th>3518</th>\n",
       "      <td>Wyoming</td>\n",
       "      <td>2025</td>\n",
       "      <td>9</td>\n",
       "      <td>-0.02930</td>\n",
       "      <td>2.560000e-01</td>\n",
       "      <td>0.6950</td>\n",
       "      <td>0.4110</td>\n",
       "      <td>9.170000e-01</td>\n",
       "      <td>2.790000e-01</td>\n",
       "      <td>1.8100</td>\n",
       "      <td>...</td>\n",
       "      <td>6.630000e-01</td>\n",
       "      <td>0.5860</td>\n",
       "      <td>4.070000e-01</td>\n",
       "      <td>0.5340</td>\n",
       "      <td>0.4930</td>\n",
       "      <td>0.3270</td>\n",
       "      <td>0.3720</td>\n",
       "      <td>-8.760000e-02</td>\n",
       "      <td>5.040000e-01</td>\n",
       "      <td>3.530000e-01</td>\n",
       "    </tr>\n",
       "  </tbody>\n",
       "</table>\n",
       "<p>3519 rows × 25 columns</p>\n",
       "</div>"
      ],
      "text/plain": [
       "     statename  year  month  spend apparel and accessories  \\\n",
       "0      Alabama  2020      1                        0.00000   \n",
       "1      Alabama  2020      2                       -0.04380   \n",
       "2      Alabama  2020      3                       -0.35100   \n",
       "3      Alabama  2020      4                       -0.53500   \n",
       "4      Alabama  2020      5                       -0.18200   \n",
       "...        ...   ...    ...                            ...   \n",
       "3514   Wyoming  2025      5                        0.04100   \n",
       "3515   Wyoming  2025      6                        0.03540   \n",
       "3516   Wyoming  2025      7                        0.04590   \n",
       "3517   Wyoming  2025      8                        0.00191   \n",
       "3518   Wyoming  2025      9                       -0.02930   \n",
       "\n",
       "      spend accommodation and food services  \\\n",
       "0                             -1.910000e-09   \n",
       "1                              2.160000e-02   \n",
       "2                             -3.800000e-01   \n",
       "3                             -6.060000e-01   \n",
       "4                             -3.820000e-01   \n",
       "...                                     ...   \n",
       "3514                           2.570000e-01   \n",
       "3515                           2.330000e-01   \n",
       "3516                           2.700000e-01   \n",
       "3517                           2.530000e-01   \n",
       "3518                           2.560000e-01   \n",
       "\n",
       "      spend arts, entertainment, and recreation  spend all  \\\n",
       "0                                        0.0000     0.0000   \n",
       "1                                        0.0643     0.0278   \n",
       "2                                       -0.3730    -0.0898   \n",
       "3                                       -0.6520    -0.2290   \n",
       "4                                       -0.4720    -0.1010   \n",
       "...                                         ...        ...   \n",
       "3514                                     0.1210     0.3640   \n",
       "3515                                     0.2850     0.3570   \n",
       "3516                                     0.6930     0.4110   \n",
       "3517                                     0.4470     0.3600   \n",
       "3518                                     0.6950     0.4110   \n",
       "\n",
       "      spend general merchandise + apparel  spend durable goods  \\\n",
       "0                           -2.880000e-08         3.280000e-08   \n",
       "1                            2.020000e-02         1.250000e-02   \n",
       "2                           -1.460000e-01        -3.850000e-02   \n",
       "3                           -3.190000e-01         1.530000e-02   \n",
       "4                           -7.270000e-02         1.720000e-01   \n",
       "...                                   ...                  ...   \n",
       "3514                         7.310000e-01         3.330000e-01   \n",
       "3515                         7.770000e-01         2.620000e-01   \n",
       "3516                         8.850000e-01         3.200000e-01   \n",
       "3517                         8.030000e-01         2.170000e-01   \n",
       "3518                         9.170000e-01         2.790000e-01   \n",
       "\n",
       "      spend general merchandise  ...  spend remote services  \\\n",
       "0                        0.0000  ...          -6.630000e-09   \n",
       "1                        0.0782  ...           4.500000e-02   \n",
       "2                        0.0646  ...          -2.870000e-02   \n",
       "3                       -0.0916  ...          -1.210000e-01   \n",
       "4                        0.0279  ...          -5.080000e-02   \n",
       "...                         ...  ...                    ...   \n",
       "3514                     1.3000  ...           6.370000e-01   \n",
       "3515                     1.4000  ...           6.540000e-01   \n",
       "3516                     1.6100  ...           6.480000e-01   \n",
       "3517                     1.5600  ...           5.760000e-01   \n",
       "3518                     1.8100  ...           6.630000e-01   \n",
       "\n",
       "      spend transportation and warehousing  spend all_incmiddle  spend all q1  \\\n",
       "0                                   0.0000         8.100000e-08        0.0000   \n",
       "1                                  -0.0412         8.730000e-03        0.0514   \n",
       "2                                  -0.4600        -1.050000e-01       -0.0571   \n",
       "3                                  -0.6440        -2.620000e-01       -0.1630   \n",
       "4                                  -0.6160        -1.330000e-01       -0.0346   \n",
       "...                                    ...                  ...           ...   \n",
       "3514                                0.1660         3.860000e-01        0.4240   \n",
       "3515                                0.0567         3.690000e-01        0.4200   \n",
       "3516                                0.3090         4.240000e-01        0.4590   \n",
       "3517                                0.3400         3.550000e-01        0.4920   \n",
       "3518                                0.5860         4.070000e-01        0.5340   \n",
       "\n",
       "      spend all q2  spend all q3  spend all q4  spend in-person services  \\\n",
       "0           0.0000        0.0000        0.0000             -3.680000e-08   \n",
       "1          -0.0106        0.0348        0.0408              2.190000e-04   \n",
       "2          -0.1090       -0.0996       -0.1080             -3.280000e-01   \n",
       "3          -0.2700       -0.2520       -0.2620             -5.840000e-01   \n",
       "4          -0.1550       -0.1030       -0.1400             -3.680000e-01   \n",
       "...            ...           ...           ...                       ...   \n",
       "3514        0.4800        0.3000        0.2810             -9.490000e-02   \n",
       "3515        0.4650        0.2810        0.3120             -3.760000e-02   \n",
       "3516        0.5010        0.3520        0.3610             -2.120000e-01   \n",
       "3517        0.4110        0.3030        0.3380             -8.130000e-02   \n",
       "3518        0.4930        0.3270        0.3720             -8.760000e-02   \n",
       "\n",
       "      spend retail excluding grocery  spend retail including grocery  \n",
       "0                      -4.440000e-08                    4.360000e-08  \n",
       "1                       2.340000e-02                    5.010000e-02  \n",
       "2                      -8.410000e-02                    8.000000e-02  \n",
       "3                      -1.450000e-01                   -3.380000e-02  \n",
       "4                       1.160000e-01                    1.290000e-01  \n",
       "...                              ...                             ...  \n",
       "3514                    4.700000e-01                    3.550000e-01  \n",
       "3515                    4.240000e-01                    3.170000e-01  \n",
       "3516                    5.330000e-01                    3.880000e-01  \n",
       "3517                    4.080000e-01                    3.280000e-01  \n",
       "3518                    5.040000e-01                    3.530000e-01  \n",
       "\n",
       "[3519 rows x 25 columns]"
      ]
     },
     "execution_count": 2,
     "metadata": {},
     "output_type": "execute_result"
    }
   ],
   "source": [
    "# spend data relative to january 6 to february 2, 2020 (% change from baseline)\n",
    "\n",
    "spend = pd.read_csv('data/Affinity - State - Monthly.csv')\n",
    "\n",
    "# add state names to spend df\n",
    "states = pd.read_csv('data/GeoIDs - State.csv')\n",
    "\n",
    "spend = spend.merge(states[['statefips', 'statename']], on='statefips')\n",
    "\n",
    "# remove unnecessary columns\n",
    "# features that start with 'spend_s' are not seasonally adjusted, remove them\n",
    "drop = ['statefips', 'day_endofmonth', 'freq', 'provisional'] + [col for col in spend.columns if col.startswith('spend_s')]\n",
    "spend = spend.drop(columns=drop)\n",
    "\n",
    "# map col names to more descriptive ones\n",
    "base_mapping = {\n",
    "    \"all\": \"all\",\n",
    "    \"all_incmiddle\": \"all_incmiddle\",\n",
    "    \"aap\": \"apparel and accessories\",\n",
    "    \"acf\": \"accommodation and food services\",\n",
    "    \"aer\": \"arts, entertainment, and recreation\",\n",
    "    \"apg\": \"general merchandise + apparel\",\n",
    "    \"gen\": \"general merchandise\",\n",
    "    \"grf\": \"grocery and food stores\",\n",
    "    \"hcs\": \"health care and social assistance\",\n",
    "    \"hic\": \"home improvement centers\",\n",
    "    \"sgh\": \"sporting goods and hobby\",\n",
    "    \"tws\": \"transportation and warehousing\",\n",
    "    \"retail_w_grocery\": \"retail including grocery\",\n",
    "    \"retail_no_grocery\": \"retail excluding grocery\",\n",
    "    \"durables\": \"durable goods\",\n",
    "    \"nondurables\": \"non-durable goods\",\n",
    "    \"remoteservices\": \"remote services\",\n",
    "    \"inperson\": \"in-person services\",\n",
    "    \"inpersonmisc\": \"other in-person services\"\n",
    "}\n",
    "\n",
    "cols_with_quarters = [\n",
    "    \"spend_all_q1\", \"spend_all_q2\", \"spend_all_q3\", \"spend_all_q4\",\n",
    "    \"spend_aap_q1\", \"spend_aap_q2\", \"spend_aap_q3\", \"spend_aap_q4\",\n",
    "    \"spend_acf_q1\", \"spend_acf_q2\" \n",
    "]\n",
    "\n",
    "col_mapping = {}\n",
    "\n",
    "for key, val in base_mapping.items():\n",
    "    col_mapping[f\"spend_{key}\"] = 'spend ' + val\n",
    "\n",
    "for col in cols_with_quarters:\n",
    "    parts = col.split(\"_q\")\n",
    "    base = parts[0].replace(\"spend_\", \"\")\n",
    "    qnum = parts[1]\n",
    "    if base in base_mapping:\n",
    "        col_mapping[col] = f\"spend {base_mapping[base]} q{qnum}\"\n",
    "\n",
    "spend = spend.rename(columns=col_mapping)\n",
    "\n",
    "# convert all q1 to type float \n",
    "spend['spend all q1'] = [\n",
    "    float(spend['spend all q1'][i]) if spend['spend all q1'][i] != '.' else np.nan\n",
    "    for i in range(len(spend))\n",
    "]\n",
    "\n",
    "# group by state year\n",
    "state_spend = spend.groupby(['statename', 'year', 'month']).sum().reset_index()\n",
    "state_spend.head()\n",
    "\n",
    "state_spend"
   ]
  },
  {
   "cell_type": "code",
   "execution_count": 3,
   "metadata": {},
   "outputs": [
    {
     "data": {
      "text/html": [
       "<div>\n",
       "<style scoped>\n",
       "    .dataframe tbody tr th:only-of-type {\n",
       "        vertical-align: middle;\n",
       "    }\n",
       "\n",
       "    .dataframe tbody tr th {\n",
       "        vertical-align: top;\n",
       "    }\n",
       "\n",
       "    .dataframe thead th {\n",
       "        text-align: right;\n",
       "    }\n",
       "</style>\n",
       "<table border=\"1\" class=\"dataframe\">\n",
       "  <thead>\n",
       "    <tr style=\"text-align: right;\">\n",
       "      <th></th>\n",
       "      <th>statename</th>\n",
       "      <th>year</th>\n",
       "      <th>month</th>\n",
       "      <th>day_endofweek</th>\n",
       "      <th>emp all</th>\n",
       "      <th>emp q1</th>\n",
       "      <th>emp q2</th>\n",
       "      <th>emp q3</th>\n",
       "      <th>emp q4</th>\n",
       "      <th>emp inc middle</th>\n",
       "      <th>emp inc below_median</th>\n",
       "      <th>emp inc above median</th>\n",
       "      <th>emp trade_transport utilities</th>\n",
       "      <th>emp professional business_services</th>\n",
       "      <th>emp education health services</th>\n",
       "      <th>emp leisure hospitality</th>\n",
       "    </tr>\n",
       "  </thead>\n",
       "  <tbody>\n",
       "    <tr>\n",
       "      <th>0</th>\n",
       "      <td>Alabama</td>\n",
       "      <td>2020</td>\n",
       "      <td>1</td>\n",
       "      <td>31</td>\n",
       "      <td>-0.00474</td>\n",
       "      <td>-0.01700</td>\n",
       "      <td>0.00717</td>\n",
       "      <td>-0.00084</td>\n",
       "      <td>-0.00768</td>\n",
       "      <td>0.00311</td>\n",
       "      <td>-0.00574</td>\n",
       "      <td>-0.00343</td>\n",
       "      <td>-0.0355</td>\n",
       "      <td>-0.00263</td>\n",
       "      <td>0.0107</td>\n",
       "      <td>-0.0168</td>\n",
       "    </tr>\n",
       "    <tr>\n",
       "      <th>1</th>\n",
       "      <td>Alabama</td>\n",
       "      <td>2020</td>\n",
       "      <td>2</td>\n",
       "      <td>28</td>\n",
       "      <td>0.01510</td>\n",
       "      <td>0.00845</td>\n",
       "      <td>0.01100</td>\n",
       "      <td>0.02940</td>\n",
       "      <td>0.01040</td>\n",
       "      <td>0.02030</td>\n",
       "      <td>0.00962</td>\n",
       "      <td>0.02220</td>\n",
       "      <td>0.0163</td>\n",
       "      <td>-0.00342</td>\n",
       "      <td>0.0505</td>\n",
       "      <td>-0.0200</td>\n",
       "    </tr>\n",
       "    <tr>\n",
       "      <th>2</th>\n",
       "      <td>Alabama</td>\n",
       "      <td>2020</td>\n",
       "      <td>3</td>\n",
       "      <td>27</td>\n",
       "      <td>-0.09350</td>\n",
       "      <td>-0.19800</td>\n",
       "      <td>-0.07090</td>\n",
       "      <td>-0.03170</td>\n",
       "      <td>-0.03860</td>\n",
       "      <td>-0.05100</td>\n",
       "      <td>-0.13900</td>\n",
       "      <td>-0.03430</td>\n",
       "      <td>-0.1420</td>\n",
       "      <td>-0.05530</td>\n",
       "      <td>-0.0833</td>\n",
       "      <td>-0.3190</td>\n",
       "    </tr>\n",
       "    <tr>\n",
       "      <th>3</th>\n",
       "      <td>Alabama</td>\n",
       "      <td>2020</td>\n",
       "      <td>4</td>\n",
       "      <td>24</td>\n",
       "      <td>-0.21500</td>\n",
       "      <td>-0.41300</td>\n",
       "      <td>-0.18600</td>\n",
       "      <td>-0.10800</td>\n",
       "      <td>-0.07350</td>\n",
       "      <td>-0.14700</td>\n",
       "      <td>-0.30700</td>\n",
       "      <td>-0.09520</td>\n",
       "      <td>-0.2700</td>\n",
       "      <td>-0.17100</td>\n",
       "      <td>-0.2360</td>\n",
       "      <td>-0.5410</td>\n",
       "    </tr>\n",
       "    <tr>\n",
       "      <th>4</th>\n",
       "      <td>Alabama</td>\n",
       "      <td>2020</td>\n",
       "      <td>5</td>\n",
       "      <td>29</td>\n",
       "      <td>-0.17200</td>\n",
       "      <td>-0.30000</td>\n",
       "      <td>-0.13100</td>\n",
       "      <td>-0.13200</td>\n",
       "      <td>-0.06780</td>\n",
       "      <td>-0.13100</td>\n",
       "      <td>-0.22100</td>\n",
       "      <td>-0.10700</td>\n",
       "      <td>-0.2040</td>\n",
       "      <td>-0.28300</td>\n",
       "      <td>-0.1220</td>\n",
       "      <td>-0.2460</td>\n",
       "    </tr>\n",
       "  </tbody>\n",
       "</table>\n",
       "</div>"
      ],
      "text/plain": [
       "  statename  year  month  day_endofweek  emp all   emp q1   emp q2   emp q3  \\\n",
       "0   Alabama  2020      1             31 -0.00474 -0.01700  0.00717 -0.00084   \n",
       "1   Alabama  2020      2             28  0.01510  0.00845  0.01100  0.02940   \n",
       "2   Alabama  2020      3             27 -0.09350 -0.19800 -0.07090 -0.03170   \n",
       "3   Alabama  2020      4             24 -0.21500 -0.41300 -0.18600 -0.10800   \n",
       "4   Alabama  2020      5             29 -0.17200 -0.30000 -0.13100 -0.13200   \n",
       "\n",
       "    emp q4  emp inc middle  emp inc below_median  emp inc above median  \\\n",
       "0 -0.00768         0.00311              -0.00574              -0.00343   \n",
       "1  0.01040         0.02030               0.00962               0.02220   \n",
       "2 -0.03860        -0.05100              -0.13900              -0.03430   \n",
       "3 -0.07350        -0.14700              -0.30700              -0.09520   \n",
       "4 -0.06780        -0.13100              -0.22100              -0.10700   \n",
       "\n",
       "   emp trade_transport utilities  emp professional business_services  \\\n",
       "0                        -0.0355                            -0.00263   \n",
       "1                         0.0163                            -0.00342   \n",
       "2                        -0.1420                            -0.05530   \n",
       "3                        -0.2700                            -0.17100   \n",
       "4                        -0.2040                            -0.28300   \n",
       "\n",
       "   emp education health services  emp leisure hospitality  \n",
       "0                         0.0107                  -0.0168  \n",
       "1                         0.0505                  -0.0200  \n",
       "2                        -0.0833                  -0.3190  \n",
       "3                        -0.2360                  -0.5410  \n",
       "4                        -0.1220                  -0.2460  "
      ]
     },
     "execution_count": 3,
     "metadata": {},
     "output_type": "execute_result"
    }
   ],
   "source": [
    "# employment data relative to january 4 to 31, 2020\n",
    "\n",
    "employment = pd.read_csv('data/Employment - State - Weekly.csv')\n",
    "\n",
    "# add state names to employment df\n",
    "employment = employment.merge(states[['statefips', 'statename']], on='statefips')\n",
    "\n",
    "# remove unnecessary columns\n",
    "drop = ['statefips']\n",
    "\n",
    "employment = employment.drop(columns=drop)\n",
    "\n",
    "# map col names to more descriptive ones\n",
    "col_mapping = {\n",
    "\n",
    "    \"emp\": \"all\",\n",
    "    \n",
    "    # by income quartiles\n",
    "    \"emp_incq1\": \"q1\",\n",
    "    \"emp_incq2\": \"q2\",\n",
    "    \"emp_incq3\": \"q3\",\n",
    "    \"emp_incq4\": \"q4\",\n",
    "    \"emp_incmiddle\": \"inc middle\",\n",
    "    \"emp_incbelowmed\": \"inc below_median\",\n",
    "    \"emp_incabovemed\": \"inc above median\",\n",
    "    \n",
    "    # by NAICS supersectors\n",
    "    \"emp_ss40\": \"trade_transport utilities\",\n",
    "    \"emp_ss60\": \"professional business_services\",\n",
    "    \"emp_ss65\": \"education health services\",\n",
    "    \"emp_ss70\": \"leisure hospitality\"\n",
    "}\n",
    "\n",
    "for key, val in col_mapping.items():\n",
    "    employment = employment.rename(columns={key: 'emp ' + val})\n",
    "\n",
    "# convert all emp columns to type float\n",
    "for col in employment.columns:\n",
    "    if col.startswith('emp '):\n",
    "        employment[col] = [\n",
    "            float(employment[col][i]) if employment[col][i] != '.' else np.nan\n",
    "            for i in range(len(employment))\n",
    "        ]\n",
    "# sort employment df by state name, year, month, and day_endofweek\n",
    "employment = employment.sort_values(by=['statename', 'year', 'month', 'day_endofweek'])\n",
    "\n",
    "# group by state, year, month\n",
    "state_emp = employment.groupby(['statename', 'year', 'month'], as_index=False).last()\n",
    "\n",
    "state_emp.head()"
   ]
  },
  {
   "cell_type": "code",
   "execution_count": 4,
   "metadata": {},
   "outputs": [
    {
     "name": "stderr",
     "output_type": "stream",
     "text": [
      "/var/folders/5r/fvb423zx5bgd_t4w2tvz41j40000gn/T/ipykernel_22064/1913648835.py:3: DtypeWarning: Columns (5,7,16,19,20,29) have mixed types. Specify dtype option on import or set low_memory=False.\n",
      "  covid = pd.read_csv('data/COVID - State - Daily.csv')\n"
     ]
    },
    {
     "data": {
      "text/html": [
       "<div>\n",
       "<style scoped>\n",
       "    .dataframe tbody tr th:only-of-type {\n",
       "        vertical-align: middle;\n",
       "    }\n",
       "\n",
       "    .dataframe tbody tr th {\n",
       "        vertical-align: top;\n",
       "    }\n",
       "\n",
       "    .dataframe thead th {\n",
       "        text-align: right;\n",
       "    }\n",
       "</style>\n",
       "<table border=\"1\" class=\"dataframe\">\n",
       "  <thead>\n",
       "    <tr style=\"text-align: right;\">\n",
       "      <th></th>\n",
       "      <th>statename</th>\n",
       "      <th>year</th>\n",
       "      <th>month</th>\n",
       "      <th>case_rate</th>\n",
       "      <th>death_rate</th>\n",
       "      <th>test_rate</th>\n",
       "      <th>vaccine_rate</th>\n",
       "      <th>fullvaccine_rate</th>\n",
       "      <th>booster_first_rate</th>\n",
       "      <th>hospitalized_rate</th>\n",
       "    </tr>\n",
       "  </thead>\n",
       "  <tbody>\n",
       "    <tr>\n",
       "      <th>0</th>\n",
       "      <td>Alabama</td>\n",
       "      <td>2020</td>\n",
       "      <td>1</td>\n",
       "      <td>NaN</td>\n",
       "      <td>NaN</td>\n",
       "      <td>NaN</td>\n",
       "      <td>NaN</td>\n",
       "      <td>NaN</td>\n",
       "      <td>NaN</td>\n",
       "      <td>NaN</td>\n",
       "    </tr>\n",
       "    <tr>\n",
       "      <th>1</th>\n",
       "      <td>Alabama</td>\n",
       "      <td>2020</td>\n",
       "      <td>2</td>\n",
       "      <td>NaN</td>\n",
       "      <td>NaN</td>\n",
       "      <td>NaN</td>\n",
       "      <td>NaN</td>\n",
       "      <td>NaN</td>\n",
       "      <td>NaN</td>\n",
       "      <td>NaN</td>\n",
       "    </tr>\n",
       "    <tr>\n",
       "      <th>2</th>\n",
       "      <td>Alabama</td>\n",
       "      <td>2020</td>\n",
       "      <td>3</td>\n",
       "      <td>3.848895</td>\n",
       "      <td>0.017158</td>\n",
       "      <td>NaN</td>\n",
       "      <td>NaN</td>\n",
       "      <td>NaN</td>\n",
       "      <td>NaN</td>\n",
       "      <td>0.101591</td>\n",
       "    </tr>\n",
       "    <tr>\n",
       "      <th>3</th>\n",
       "      <td>Alabama</td>\n",
       "      <td>2020</td>\n",
       "      <td>4</td>\n",
       "      <td>72.970000</td>\n",
       "      <td>2.257533</td>\n",
       "      <td>NaN</td>\n",
       "      <td>NaN</td>\n",
       "      <td>NaN</td>\n",
       "      <td>NaN</td>\n",
       "      <td>7.704000</td>\n",
       "    </tr>\n",
       "    <tr>\n",
       "      <th>4</th>\n",
       "      <td>Alabama</td>\n",
       "      <td>2020</td>\n",
       "      <td>5</td>\n",
       "      <td>224.387097</td>\n",
       "      <td>8.786129</td>\n",
       "      <td>NaN</td>\n",
       "      <td>NaN</td>\n",
       "      <td>NaN</td>\n",
       "      <td>NaN</td>\n",
       "      <td>8.569677</td>\n",
       "    </tr>\n",
       "  </tbody>\n",
       "</table>\n",
       "</div>"
      ],
      "text/plain": [
       "  statename  year  month   case_rate  death_rate  test_rate  vaccine_rate  \\\n",
       "0   Alabama  2020      1         NaN         NaN        NaN           NaN   \n",
       "1   Alabama  2020      2         NaN         NaN        NaN           NaN   \n",
       "2   Alabama  2020      3    3.848895    0.017158        NaN           NaN   \n",
       "3   Alabama  2020      4   72.970000    2.257533        NaN           NaN   \n",
       "4   Alabama  2020      5  224.387097    8.786129        NaN           NaN   \n",
       "\n",
       "   fullvaccine_rate  booster_first_rate  hospitalized_rate  \n",
       "0               NaN                 NaN                NaN  \n",
       "1               NaN                 NaN                NaN  \n",
       "2               NaN                 NaN           0.101591  \n",
       "3               NaN                 NaN           7.704000  \n",
       "4               NaN                 NaN           8.569677  "
      ]
     },
     "execution_count": 4,
     "metadata": {},
     "output_type": "execute_result"
    }
   ],
   "source": [
    "# covid-19 data\n",
    "\n",
    "covid = pd.read_csv('data/COVID - State - Daily.csv')   \n",
    "\n",
    "# add state names to covid df\n",
    "covid = covid.merge(states[['statefips', 'statename']], on='statefips')\n",
    "\n",
    "# remove uncessary columns and keep only rates\n",
    "keep = ['year', 'month', 'statename'] + [col for col in covid.columns if col.endswith('_rate') and not col.startswith('new')]\n",
    "covid = covid[keep]\n",
    "\n",
    "# convert all rate columns to type float\n",
    "for col in covid.columns:\n",
    "    if col.endswith('_rate'):\n",
    "        covid[col] = [\n",
    "            float(covid[col][i]) if covid[col][i] != '.' else np.nan\n",
    "            for i in range(len(covid))\n",
    "        ]\n",
    "\n",
    "# group by state, year, month\n",
    "state_covid = covid.groupby(['statename', 'year', 'month']).mean().reset_index()\n",
    "state_covid.head()"
   ]
  },
  {
   "cell_type": "code",
   "execution_count": 5,
   "metadata": {},
   "outputs": [
    {
     "data": {
      "text/html": [
       "<div>\n",
       "<style scoped>\n",
       "    .dataframe tbody tr th:only-of-type {\n",
       "        vertical-align: middle;\n",
       "    }\n",
       "\n",
       "    .dataframe tbody tr th {\n",
       "        vertical-align: top;\n",
       "    }\n",
       "\n",
       "    .dataframe thead th {\n",
       "        text-align: right;\n",
       "    }\n",
       "</style>\n",
       "<table border=\"1\" class=\"dataframe\">\n",
       "  <thead>\n",
       "    <tr style=\"text-align: right;\">\n",
       "      <th></th>\n",
       "      <th>statename</th>\n",
       "      <th>year</th>\n",
       "      <th>month</th>\n",
       "      <th>day</th>\n",
       "      <th>time retail and recreation</th>\n",
       "      <th>time grocery and pharmacy</th>\n",
       "      <th>time parks</th>\n",
       "      <th>time transit stations</th>\n",
       "      <th>time workplaces</th>\n",
       "      <th>time residential</th>\n",
       "      <th>time away from home</th>\n",
       "    </tr>\n",
       "  </thead>\n",
       "  <tbody>\n",
       "    <tr>\n",
       "      <th>0</th>\n",
       "      <td>Alabama</td>\n",
       "      <td>2020</td>\n",
       "      <td>2</td>\n",
       "      <td>29</td>\n",
       "      <td>0.0900</td>\n",
       "      <td>0.0414</td>\n",
       "      <td>0.191</td>\n",
       "      <td>0.1070</td>\n",
       "      <td>0.010</td>\n",
       "      <td>-0.00571</td>\n",
       "      <td>0.00855</td>\n",
       "    </tr>\n",
       "    <tr>\n",
       "      <th>1</th>\n",
       "      <td>Alabama</td>\n",
       "      <td>2020</td>\n",
       "      <td>3</td>\n",
       "      <td>31</td>\n",
       "      <td>-0.3340</td>\n",
       "      <td>-0.0643</td>\n",
       "      <td>0.180</td>\n",
       "      <td>-0.2340</td>\n",
       "      <td>-0.344</td>\n",
       "      <td>0.13100</td>\n",
       "      <td>-0.15900</td>\n",
       "    </tr>\n",
       "    <tr>\n",
       "      <th>2</th>\n",
       "      <td>Alabama</td>\n",
       "      <td>2020</td>\n",
       "      <td>4</td>\n",
       "      <td>30</td>\n",
       "      <td>-0.2400</td>\n",
       "      <td>-0.0300</td>\n",
       "      <td>0.143</td>\n",
       "      <td>-0.2300</td>\n",
       "      <td>-0.347</td>\n",
       "      <td>0.12100</td>\n",
       "      <td>-0.14800</td>\n",
       "    </tr>\n",
       "    <tr>\n",
       "      <th>3</th>\n",
       "      <td>Alabama</td>\n",
       "      <td>2020</td>\n",
       "      <td>5</td>\n",
       "      <td>31</td>\n",
       "      <td>-0.0914</td>\n",
       "      <td>0.0314</td>\n",
       "      <td>0.373</td>\n",
       "      <td>-0.0371</td>\n",
       "      <td>-0.236</td>\n",
       "      <td>0.08290</td>\n",
       "      <td>-0.09430</td>\n",
       "    </tr>\n",
       "    <tr>\n",
       "      <th>4</th>\n",
       "      <td>Alabama</td>\n",
       "      <td>2020</td>\n",
       "      <td>6</td>\n",
       "      <td>30</td>\n",
       "      <td>-0.0657</td>\n",
       "      <td>0.0171</td>\n",
       "      <td>0.429</td>\n",
       "      <td>0.0500</td>\n",
       "      <td>-0.234</td>\n",
       "      <td>0.07140</td>\n",
       "      <td>-0.08210</td>\n",
       "    </tr>\n",
       "  </tbody>\n",
       "</table>\n",
       "</div>"
      ],
      "text/plain": [
       "  statename  year  month  day  time retail and recreation  \\\n",
       "0   Alabama  2020      2   29                      0.0900   \n",
       "1   Alabama  2020      3   31                     -0.3340   \n",
       "2   Alabama  2020      4   30                     -0.2400   \n",
       "3   Alabama  2020      5   31                     -0.0914   \n",
       "4   Alabama  2020      6   30                     -0.0657   \n",
       "\n",
       "   time grocery and pharmacy  time parks  time transit stations  \\\n",
       "0                     0.0414       0.191                 0.1070   \n",
       "1                    -0.0643       0.180                -0.2340   \n",
       "2                    -0.0300       0.143                -0.2300   \n",
       "3                     0.0314       0.373                -0.0371   \n",
       "4                     0.0171       0.429                 0.0500   \n",
       "\n",
       "   time workplaces  time residential  time away from home  \n",
       "0            0.010          -0.00571              0.00855  \n",
       "1           -0.344           0.13100             -0.15900  \n",
       "2           -0.347           0.12100             -0.14800  \n",
       "3           -0.236           0.08290             -0.09430  \n",
       "4           -0.234           0.07140             -0.08210  "
      ]
     },
     "execution_count": 5,
     "metadata": {},
     "output_type": "execute_result"
    }
   ],
   "source": [
    "# mobility data relative to january 3 to february 6, 2020\n",
    "\n",
    "mobility = pd.read_csv('data/Google Mobility - State - Daily.csv')\n",
    "\n",
    "# add state names to mobility df\n",
    "mobility = mobility.merge(states[['statefips', 'statename']], on='statefips')\n",
    "\n",
    "# remove unnecessary columns\n",
    "drop = ['statefips']\n",
    "mobility = mobility.drop(columns=drop)\n",
    "\n",
    "# map col names to more descriptive ones\n",
    "col_mapping = {\n",
    "    \n",
    "}\n",
    "# map col names to more descriptive ones\n",
    "col_mapping = {\n",
    "\n",
    "    'gps_retail_and_recreation': 'time retail and recreation',\n",
    "    'gps_grocery_and_pharmacy': 'time grocery and pharmacy', \n",
    "    'gps_parks': 'time parks', \n",
    "    'gps_transit_stations': 'time transit stations',\n",
    "    'gps_workplaces': 'time workplaces', \n",
    "    'gps_residential': 'time residential', \n",
    "    'gps_away_from_home': 'time away from home',\n",
    "    \n",
    "}\n",
    "\n",
    "for key, val in col_mapping.items():\n",
    "    mobility = mobility.rename(columns={key: val})\n",
    "\n",
    "# convert mobility cols to type float\n",
    "object_cols = ['time parks', 'time transit stations']\n",
    "\n",
    "for col in object_cols:\n",
    "    mobility[col] = [\n",
    "        float(mobility[col][i]) if mobility[col][i] != '.' else np.nan\n",
    "        for i in range(len(mobility))\n",
    "        ]\n",
    "\n",
    "mobility = mobility.sort_values(by=['statename', 'year', 'month', 'day'])\n",
    "\n",
    "state_mobility = mobility.groupby(['statename', 'year', 'month'], as_index=False).last()\n",
    "state_mobility.head()"
   ]
  },
  {
   "cell_type": "code",
   "execution_count": 11,
   "metadata": {},
   "outputs": [],
   "source": [
    "# merge all dfs by state, year, and month\n",
    "df = state_spend.merge(state_emp, on=['statename', 'year', 'month'], how='left')\n",
    "df = df.merge(state_covid, on=['statename', 'year', 'month'], how='left')\n",
    "df = df.merge(state_mobility, on=['statename', 'year', 'month'], how='left')\n",
    "\n",
    "# add recovered col for spend and emp\n",
    "df.loc[df['spend all'].notna(), 'spend recovered'] = df.loc[df['spend all'].notna(), 'spend all'] >= 0\n",
    "df.loc[df['emp all'].notna(), 'emp recovered'] = df.loc[df['emp all'].notna(), 'emp all'] >= 0\n",
    "\n",
    "# convert to csv file\n",
    "df.to_csv('data.csv', index=False)\n"
   ]
  },
  {
   "cell_type": "code",
   "execution_count": 12,
   "metadata": {},
   "outputs": [
    {
     "data": {
      "text/html": [
       "<div>\n",
       "<style scoped>\n",
       "    .dataframe tbody tr th:only-of-type {\n",
       "        vertical-align: middle;\n",
       "    }\n",
       "\n",
       "    .dataframe tbody tr th {\n",
       "        vertical-align: top;\n",
       "    }\n",
       "\n",
       "    .dataframe thead th {\n",
       "        text-align: right;\n",
       "    }\n",
       "</style>\n",
       "<table border=\"1\" class=\"dataframe\">\n",
       "  <thead>\n",
       "    <tr style=\"text-align: right;\">\n",
       "      <th></th>\n",
       "      <th>statename</th>\n",
       "      <th>year</th>\n",
       "      <th>month</th>\n",
       "      <th>spend apparel and accessories</th>\n",
       "      <th>spend accommodation and food services</th>\n",
       "      <th>spend arts, entertainment, and recreation</th>\n",
       "      <th>spend all</th>\n",
       "      <th>spend general merchandise + apparel</th>\n",
       "      <th>spend durable goods</th>\n",
       "      <th>spend general merchandise</th>\n",
       "      <th>...</th>\n",
       "      <th>day</th>\n",
       "      <th>time retail and recreation</th>\n",
       "      <th>time grocery and pharmacy</th>\n",
       "      <th>time parks</th>\n",
       "      <th>time transit stations</th>\n",
       "      <th>time workplaces</th>\n",
       "      <th>time residential</th>\n",
       "      <th>time away from home</th>\n",
       "      <th>spend recovered</th>\n",
       "      <th>emp recovered</th>\n",
       "    </tr>\n",
       "  </thead>\n",
       "  <tbody>\n",
       "    <tr>\n",
       "      <th>0</th>\n",
       "      <td>Alabama</td>\n",
       "      <td>2020</td>\n",
       "      <td>1</td>\n",
       "      <td>0.00000</td>\n",
       "      <td>-1.910000e-09</td>\n",
       "      <td>0.0000</td>\n",
       "      <td>0.0000</td>\n",
       "      <td>-2.880000e-08</td>\n",
       "      <td>3.280000e-08</td>\n",
       "      <td>0.0000</td>\n",
       "      <td>...</td>\n",
       "      <td>NaN</td>\n",
       "      <td>NaN</td>\n",
       "      <td>NaN</td>\n",
       "      <td>NaN</td>\n",
       "      <td>NaN</td>\n",
       "      <td>NaN</td>\n",
       "      <td>NaN</td>\n",
       "      <td>NaN</td>\n",
       "      <td>True</td>\n",
       "      <td>False</td>\n",
       "    </tr>\n",
       "    <tr>\n",
       "      <th>1</th>\n",
       "      <td>Alabama</td>\n",
       "      <td>2020</td>\n",
       "      <td>2</td>\n",
       "      <td>-0.04380</td>\n",
       "      <td>2.160000e-02</td>\n",
       "      <td>0.0643</td>\n",
       "      <td>0.0278</td>\n",
       "      <td>2.020000e-02</td>\n",
       "      <td>1.250000e-02</td>\n",
       "      <td>0.0782</td>\n",
       "      <td>...</td>\n",
       "      <td>29.0</td>\n",
       "      <td>0.0900</td>\n",
       "      <td>0.0414</td>\n",
       "      <td>0.191</td>\n",
       "      <td>0.1070</td>\n",
       "      <td>0.010</td>\n",
       "      <td>-0.00571</td>\n",
       "      <td>0.00855</td>\n",
       "      <td>True</td>\n",
       "      <td>True</td>\n",
       "    </tr>\n",
       "    <tr>\n",
       "      <th>2</th>\n",
       "      <td>Alabama</td>\n",
       "      <td>2020</td>\n",
       "      <td>3</td>\n",
       "      <td>-0.35100</td>\n",
       "      <td>-3.800000e-01</td>\n",
       "      <td>-0.3730</td>\n",
       "      <td>-0.0898</td>\n",
       "      <td>-1.460000e-01</td>\n",
       "      <td>-3.850000e-02</td>\n",
       "      <td>0.0646</td>\n",
       "      <td>...</td>\n",
       "      <td>31.0</td>\n",
       "      <td>-0.3340</td>\n",
       "      <td>-0.0643</td>\n",
       "      <td>0.180</td>\n",
       "      <td>-0.2340</td>\n",
       "      <td>-0.344</td>\n",
       "      <td>0.13100</td>\n",
       "      <td>-0.15900</td>\n",
       "      <td>False</td>\n",
       "      <td>False</td>\n",
       "    </tr>\n",
       "    <tr>\n",
       "      <th>3</th>\n",
       "      <td>Alabama</td>\n",
       "      <td>2020</td>\n",
       "      <td>4</td>\n",
       "      <td>-0.53500</td>\n",
       "      <td>-6.060000e-01</td>\n",
       "      <td>-0.6520</td>\n",
       "      <td>-0.2290</td>\n",
       "      <td>-3.190000e-01</td>\n",
       "      <td>1.530000e-02</td>\n",
       "      <td>-0.0916</td>\n",
       "      <td>...</td>\n",
       "      <td>30.0</td>\n",
       "      <td>-0.2400</td>\n",
       "      <td>-0.0300</td>\n",
       "      <td>0.143</td>\n",
       "      <td>-0.2300</td>\n",
       "      <td>-0.347</td>\n",
       "      <td>0.12100</td>\n",
       "      <td>-0.14800</td>\n",
       "      <td>False</td>\n",
       "      <td>False</td>\n",
       "    </tr>\n",
       "    <tr>\n",
       "      <th>4</th>\n",
       "      <td>Alabama</td>\n",
       "      <td>2020</td>\n",
       "      <td>5</td>\n",
       "      <td>-0.18200</td>\n",
       "      <td>-3.820000e-01</td>\n",
       "      <td>-0.4720</td>\n",
       "      <td>-0.1010</td>\n",
       "      <td>-7.270000e-02</td>\n",
       "      <td>1.720000e-01</td>\n",
       "      <td>0.0279</td>\n",
       "      <td>...</td>\n",
       "      <td>31.0</td>\n",
       "      <td>-0.0914</td>\n",
       "      <td>0.0314</td>\n",
       "      <td>0.373</td>\n",
       "      <td>-0.0371</td>\n",
       "      <td>-0.236</td>\n",
       "      <td>0.08290</td>\n",
       "      <td>-0.09430</td>\n",
       "      <td>False</td>\n",
       "      <td>False</td>\n",
       "    </tr>\n",
       "    <tr>\n",
       "      <th>...</th>\n",
       "      <td>...</td>\n",
       "      <td>...</td>\n",
       "      <td>...</td>\n",
       "      <td>...</td>\n",
       "      <td>...</td>\n",
       "      <td>...</td>\n",
       "      <td>...</td>\n",
       "      <td>...</td>\n",
       "      <td>...</td>\n",
       "      <td>...</td>\n",
       "      <td>...</td>\n",
       "      <td>...</td>\n",
       "      <td>...</td>\n",
       "      <td>...</td>\n",
       "      <td>...</td>\n",
       "      <td>...</td>\n",
       "      <td>...</td>\n",
       "      <td>...</td>\n",
       "      <td>...</td>\n",
       "      <td>...</td>\n",
       "      <td>...</td>\n",
       "    </tr>\n",
       "    <tr>\n",
       "      <th>3514</th>\n",
       "      <td>Wyoming</td>\n",
       "      <td>2025</td>\n",
       "      <td>5</td>\n",
       "      <td>0.04100</td>\n",
       "      <td>2.570000e-01</td>\n",
       "      <td>0.1210</td>\n",
       "      <td>0.3640</td>\n",
       "      <td>7.310000e-01</td>\n",
       "      <td>3.330000e-01</td>\n",
       "      <td>1.3000</td>\n",
       "      <td>...</td>\n",
       "      <td>NaN</td>\n",
       "      <td>NaN</td>\n",
       "      <td>NaN</td>\n",
       "      <td>NaN</td>\n",
       "      <td>NaN</td>\n",
       "      <td>NaN</td>\n",
       "      <td>NaN</td>\n",
       "      <td>NaN</td>\n",
       "      <td>True</td>\n",
       "      <td>True</td>\n",
       "    </tr>\n",
       "    <tr>\n",
       "      <th>3515</th>\n",
       "      <td>Wyoming</td>\n",
       "      <td>2025</td>\n",
       "      <td>6</td>\n",
       "      <td>0.03540</td>\n",
       "      <td>2.330000e-01</td>\n",
       "      <td>0.2850</td>\n",
       "      <td>0.3570</td>\n",
       "      <td>7.770000e-01</td>\n",
       "      <td>2.620000e-01</td>\n",
       "      <td>1.4000</td>\n",
       "      <td>...</td>\n",
       "      <td>NaN</td>\n",
       "      <td>NaN</td>\n",
       "      <td>NaN</td>\n",
       "      <td>NaN</td>\n",
       "      <td>NaN</td>\n",
       "      <td>NaN</td>\n",
       "      <td>NaN</td>\n",
       "      <td>NaN</td>\n",
       "      <td>True</td>\n",
       "      <td>NaN</td>\n",
       "    </tr>\n",
       "    <tr>\n",
       "      <th>3516</th>\n",
       "      <td>Wyoming</td>\n",
       "      <td>2025</td>\n",
       "      <td>7</td>\n",
       "      <td>0.04590</td>\n",
       "      <td>2.700000e-01</td>\n",
       "      <td>0.6930</td>\n",
       "      <td>0.4110</td>\n",
       "      <td>8.850000e-01</td>\n",
       "      <td>3.200000e-01</td>\n",
       "      <td>1.6100</td>\n",
       "      <td>...</td>\n",
       "      <td>NaN</td>\n",
       "      <td>NaN</td>\n",
       "      <td>NaN</td>\n",
       "      <td>NaN</td>\n",
       "      <td>NaN</td>\n",
       "      <td>NaN</td>\n",
       "      <td>NaN</td>\n",
       "      <td>NaN</td>\n",
       "      <td>True</td>\n",
       "      <td>NaN</td>\n",
       "    </tr>\n",
       "    <tr>\n",
       "      <th>3517</th>\n",
       "      <td>Wyoming</td>\n",
       "      <td>2025</td>\n",
       "      <td>8</td>\n",
       "      <td>0.00191</td>\n",
       "      <td>2.530000e-01</td>\n",
       "      <td>0.4470</td>\n",
       "      <td>0.3600</td>\n",
       "      <td>8.030000e-01</td>\n",
       "      <td>2.170000e-01</td>\n",
       "      <td>1.5600</td>\n",
       "      <td>...</td>\n",
       "      <td>NaN</td>\n",
       "      <td>NaN</td>\n",
       "      <td>NaN</td>\n",
       "      <td>NaN</td>\n",
       "      <td>NaN</td>\n",
       "      <td>NaN</td>\n",
       "      <td>NaN</td>\n",
       "      <td>NaN</td>\n",
       "      <td>True</td>\n",
       "      <td>NaN</td>\n",
       "    </tr>\n",
       "    <tr>\n",
       "      <th>3518</th>\n",
       "      <td>Wyoming</td>\n",
       "      <td>2025</td>\n",
       "      <td>9</td>\n",
       "      <td>-0.02930</td>\n",
       "      <td>2.560000e-01</td>\n",
       "      <td>0.6950</td>\n",
       "      <td>0.4110</td>\n",
       "      <td>9.170000e-01</td>\n",
       "      <td>2.790000e-01</td>\n",
       "      <td>1.8100</td>\n",
       "      <td>...</td>\n",
       "      <td>NaN</td>\n",
       "      <td>NaN</td>\n",
       "      <td>NaN</td>\n",
       "      <td>NaN</td>\n",
       "      <td>NaN</td>\n",
       "      <td>NaN</td>\n",
       "      <td>NaN</td>\n",
       "      <td>NaN</td>\n",
       "      <td>True</td>\n",
       "      <td>NaN</td>\n",
       "    </tr>\n",
       "  </tbody>\n",
       "</table>\n",
       "<p>3519 rows × 55 columns</p>\n",
       "</div>"
      ],
      "text/plain": [
       "     statename  year  month  spend apparel and accessories  \\\n",
       "0      Alabama  2020      1                        0.00000   \n",
       "1      Alabama  2020      2                       -0.04380   \n",
       "2      Alabama  2020      3                       -0.35100   \n",
       "3      Alabama  2020      4                       -0.53500   \n",
       "4      Alabama  2020      5                       -0.18200   \n",
       "...        ...   ...    ...                            ...   \n",
       "3514   Wyoming  2025      5                        0.04100   \n",
       "3515   Wyoming  2025      6                        0.03540   \n",
       "3516   Wyoming  2025      7                        0.04590   \n",
       "3517   Wyoming  2025      8                        0.00191   \n",
       "3518   Wyoming  2025      9                       -0.02930   \n",
       "\n",
       "      spend accommodation and food services  \\\n",
       "0                             -1.910000e-09   \n",
       "1                              2.160000e-02   \n",
       "2                             -3.800000e-01   \n",
       "3                             -6.060000e-01   \n",
       "4                             -3.820000e-01   \n",
       "...                                     ...   \n",
       "3514                           2.570000e-01   \n",
       "3515                           2.330000e-01   \n",
       "3516                           2.700000e-01   \n",
       "3517                           2.530000e-01   \n",
       "3518                           2.560000e-01   \n",
       "\n",
       "      spend arts, entertainment, and recreation  spend all  \\\n",
       "0                                        0.0000     0.0000   \n",
       "1                                        0.0643     0.0278   \n",
       "2                                       -0.3730    -0.0898   \n",
       "3                                       -0.6520    -0.2290   \n",
       "4                                       -0.4720    -0.1010   \n",
       "...                                         ...        ...   \n",
       "3514                                     0.1210     0.3640   \n",
       "3515                                     0.2850     0.3570   \n",
       "3516                                     0.6930     0.4110   \n",
       "3517                                     0.4470     0.3600   \n",
       "3518                                     0.6950     0.4110   \n",
       "\n",
       "      spend general merchandise + apparel  spend durable goods  \\\n",
       "0                           -2.880000e-08         3.280000e-08   \n",
       "1                            2.020000e-02         1.250000e-02   \n",
       "2                           -1.460000e-01        -3.850000e-02   \n",
       "3                           -3.190000e-01         1.530000e-02   \n",
       "4                           -7.270000e-02         1.720000e-01   \n",
       "...                                   ...                  ...   \n",
       "3514                         7.310000e-01         3.330000e-01   \n",
       "3515                         7.770000e-01         2.620000e-01   \n",
       "3516                         8.850000e-01         3.200000e-01   \n",
       "3517                         8.030000e-01         2.170000e-01   \n",
       "3518                         9.170000e-01         2.790000e-01   \n",
       "\n",
       "      spend general merchandise  ...   day  time retail and recreation  \\\n",
       "0                        0.0000  ...   NaN                         NaN   \n",
       "1                        0.0782  ...  29.0                      0.0900   \n",
       "2                        0.0646  ...  31.0                     -0.3340   \n",
       "3                       -0.0916  ...  30.0                     -0.2400   \n",
       "4                        0.0279  ...  31.0                     -0.0914   \n",
       "...                         ...  ...   ...                         ...   \n",
       "3514                     1.3000  ...   NaN                         NaN   \n",
       "3515                     1.4000  ...   NaN                         NaN   \n",
       "3516                     1.6100  ...   NaN                         NaN   \n",
       "3517                     1.5600  ...   NaN                         NaN   \n",
       "3518                     1.8100  ...   NaN                         NaN   \n",
       "\n",
       "      time grocery and pharmacy  time parks  time transit stations  \\\n",
       "0                           NaN         NaN                    NaN   \n",
       "1                        0.0414       0.191                 0.1070   \n",
       "2                       -0.0643       0.180                -0.2340   \n",
       "3                       -0.0300       0.143                -0.2300   \n",
       "4                        0.0314       0.373                -0.0371   \n",
       "...                         ...         ...                    ...   \n",
       "3514                        NaN         NaN                    NaN   \n",
       "3515                        NaN         NaN                    NaN   \n",
       "3516                        NaN         NaN                    NaN   \n",
       "3517                        NaN         NaN                    NaN   \n",
       "3518                        NaN         NaN                    NaN   \n",
       "\n",
       "      time workplaces  time residential  time away from home  spend recovered  \\\n",
       "0                 NaN               NaN                  NaN             True   \n",
       "1               0.010          -0.00571              0.00855             True   \n",
       "2              -0.344           0.13100             -0.15900            False   \n",
       "3              -0.347           0.12100             -0.14800            False   \n",
       "4              -0.236           0.08290             -0.09430            False   \n",
       "...               ...               ...                  ...              ...   \n",
       "3514              NaN               NaN                  NaN             True   \n",
       "3515              NaN               NaN                  NaN             True   \n",
       "3516              NaN               NaN                  NaN             True   \n",
       "3517              NaN               NaN                  NaN             True   \n",
       "3518              NaN               NaN                  NaN             True   \n",
       "\n",
       "      emp recovered  \n",
       "0             False  \n",
       "1              True  \n",
       "2             False  \n",
       "3             False  \n",
       "4             False  \n",
       "...             ...  \n",
       "3514           True  \n",
       "3515            NaN  \n",
       "3516            NaN  \n",
       "3517            NaN  \n",
       "3518            NaN  \n",
       "\n",
       "[3519 rows x 55 columns]"
      ]
     },
     "execution_count": 12,
     "metadata": {},
     "output_type": "execute_result"
    }
   ],
   "source": [
    "df"
   ]
  },
  {
   "cell_type": "markdown",
   "metadata": {},
   "source": [
    "### 2. exploratory data analysis (eda)"
   ]
  },
  {
   "cell_type": "code",
   "execution_count": 18,
   "metadata": {},
   "outputs": [
    {
     "name": "stderr",
     "output_type": "stream",
     "text": [
      "/var/folders/5r/fvb423zx5bgd_t4w2tvz41j40000gn/T/ipykernel_22064/915482598.py:16: SettingWithCopyWarning:\n",
      "\n",
      "\n",
      "A value is trying to be set on a copy of a slice from a DataFrame.\n",
      "Try using .loc[row_indexer,col_indexer] = value instead\n",
      "\n",
      "See the caveats in the documentation: https://pandas.pydata.org/pandas-docs/stable/user_guide/indexing.html#returning-a-view-versus-a-copy\n",
      "\n",
      "/var/folders/5r/fvb423zx5bgd_t4w2tvz41j40000gn/T/ipykernel_22064/915482598.py:19: SettingWithCopyWarning:\n",
      "\n",
      "\n",
      "A value is trying to be set on a copy of a slice from a DataFrame.\n",
      "Try using .loc[row_indexer,col_indexer] = value instead\n",
      "\n",
      "See the caveats in the documentation: https://pandas.pydata.org/pandas-docs/stable/user_guide/indexing.html#returning-a-view-versus-a-copy\n",
      "\n"
     ]
    },
    {
     "data": {
      "application/vnd.plotly.v1+json": {
       "config": {
        "plotlyServerURL": "https://plot.ly"
       },
       "data": [
        {
         "colorscale": [
          [
           0,
           "#96b9d0"
          ],
          [
           1,
           "#96b9d0"
          ]
         ],
         "geo": "geo",
         "hovertemplate": "spend recovered=True<br>year_label=Jan 2021<br>state_abbrev=%{location}<extra></extra>",
         "locationmode": "USA-states",
         "locations": [
          "AL",
          "AK",
          "AR",
          "CT",
          "DE",
          "FL",
          "GA",
          "HI",
          "ID",
          "IL",
          "IN",
          "KS",
          "KY",
          "LA",
          "ME",
          "MA",
          "MI",
          "MS",
          "MO",
          "MT",
          "NE",
          "NH",
          "NJ",
          "NY",
          "ND",
          "OH",
          "OK",
          "PA",
          "SC",
          "TN",
          "TX",
          "VT",
          "WV",
          "WI",
          "WY"
         ],
         "name": "True",
         "showlegend": true,
         "showscale": false,
         "type": "choropleth",
         "z": [
          1,
          1,
          1,
          1,
          1,
          1,
          1,
          1,
          1,
          1,
          1,
          1,
          1,
          1,
          1,
          1,
          1,
          1,
          1,
          1,
          1,
          1,
          1,
          1,
          1,
          1,
          1,
          1,
          1,
          1,
          1,
          1,
          1,
          1,
          1
         ]
        },
        {
         "colorscale": [
          [
           0,
           "#ffd5b6"
          ],
          [
           1,
           "#ffd5b6"
          ]
         ],
         "geo": "geo",
         "hovertemplate": "spend recovered=False<br>year_label=Jan 2021<br>state_abbrev=%{location}<extra></extra>",
         "locationmode": "USA-states",
         "locations": [
          "AZ",
          "CA",
          "CO",
          "DC",
          "IA",
          "MD",
          "MN",
          "NV",
          "NM",
          "NC",
          "OR",
          "RI",
          "SD",
          "UT",
          "VA",
          "WA"
         ],
         "name": "False",
         "showlegend": true,
         "showscale": false,
         "type": "choropleth",
         "z": [
          1,
          1,
          1,
          1,
          1,
          1,
          1,
          1,
          1,
          1,
          1,
          1,
          1,
          1,
          1,
          1
         ]
        }
       ],
       "frames": [
        {
         "data": [
          {
           "colorscale": [
            [
             0,
             "#96b9d0"
            ],
            [
             1,
             "#96b9d0"
            ]
           ],
           "geo": "geo",
           "hovertemplate": "spend recovered=True<br>year_label=Jan 2021<br>state_abbrev=%{location}<extra></extra>",
           "locationmode": "USA-states",
           "locations": [
            "AL",
            "AK",
            "AR",
            "CT",
            "DE",
            "FL",
            "GA",
            "HI",
            "ID",
            "IL",
            "IN",
            "KS",
            "KY",
            "LA",
            "ME",
            "MA",
            "MI",
            "MS",
            "MO",
            "MT",
            "NE",
            "NH",
            "NJ",
            "NY",
            "ND",
            "OH",
            "OK",
            "PA",
            "SC",
            "TN",
            "TX",
            "VT",
            "WV",
            "WI",
            "WY"
           ],
           "name": "True",
           "showlegend": true,
           "showscale": false,
           "type": "choropleth",
           "z": [
            1,
            1,
            1,
            1,
            1,
            1,
            1,
            1,
            1,
            1,
            1,
            1,
            1,
            1,
            1,
            1,
            1,
            1,
            1,
            1,
            1,
            1,
            1,
            1,
            1,
            1,
            1,
            1,
            1,
            1,
            1,
            1,
            1,
            1,
            1
           ]
          },
          {
           "colorscale": [
            [
             0,
             "#ffd5b6"
            ],
            [
             1,
             "#ffd5b6"
            ]
           ],
           "geo": "geo",
           "hovertemplate": "spend recovered=False<br>year_label=Jan 2021<br>state_abbrev=%{location}<extra></extra>",
           "locationmode": "USA-states",
           "locations": [
            "AZ",
            "CA",
            "CO",
            "DC",
            "IA",
            "MD",
            "MN",
            "NV",
            "NM",
            "NC",
            "OR",
            "RI",
            "SD",
            "UT",
            "VA",
            "WA"
           ],
           "name": "False",
           "showlegend": true,
           "showscale": false,
           "type": "choropleth",
           "z": [
            1,
            1,
            1,
            1,
            1,
            1,
            1,
            1,
            1,
            1,
            1,
            1,
            1,
            1,
            1,
            1
           ]
          }
         ],
         "name": "Jan 2021"
        },
        {
         "data": [
          {
           "colorscale": [
            [
             0,
             "#96b9d0"
            ],
            [
             1,
             "#96b9d0"
            ]
           ],
           "geo": "geo",
           "hovertemplate": "spend recovered=True<br>year_label=Jan 2022<br>state_abbrev=%{location}<extra></extra>",
           "locationmode": "USA-states",
           "locations": [
            "AL",
            "AK",
            "AR",
            "CO",
            "CT",
            "DE",
            "FL",
            "GA",
            "HI",
            "ID",
            "IL",
            "IN",
            "IA",
            "KS",
            "KY",
            "LA",
            "ME",
            "MD",
            "MA",
            "MI",
            "MN",
            "MS",
            "MO",
            "MT",
            "NE",
            "NH",
            "NJ",
            "NM",
            "NY",
            "ND",
            "OH",
            "OK",
            "PA",
            "RI",
            "SC",
            "SD",
            "TN",
            "TX",
            "UT",
            "VT",
            "VA",
            "WV",
            "WI",
            "WY"
           ],
           "name": "True",
           "showlegend": true,
           "showscale": false,
           "type": "choropleth",
           "z": [
            1,
            1,
            1,
            1,
            1,
            1,
            1,
            1,
            1,
            1,
            1,
            1,
            1,
            1,
            1,
            1,
            1,
            1,
            1,
            1,
            1,
            1,
            1,
            1,
            1,
            1,
            1,
            1,
            1,
            1,
            1,
            1,
            1,
            1,
            1,
            1,
            1,
            1,
            1,
            1,
            1,
            1,
            1,
            1
           ]
          },
          {
           "colorscale": [
            [
             0,
             "#ffd5b6"
            ],
            [
             1,
             "#ffd5b6"
            ]
           ],
           "geo": "geo",
           "hovertemplate": "spend recovered=False<br>year_label=Jan 2022<br>state_abbrev=%{location}<extra></extra>",
           "locationmode": "USA-states",
           "locations": [
            "AZ",
            "CA",
            "DC",
            "NV",
            "NC",
            "OR",
            "WA"
           ],
           "name": "False",
           "showlegend": true,
           "showscale": false,
           "type": "choropleth",
           "z": [
            1,
            1,
            1,
            1,
            1,
            1,
            1
           ]
          }
         ],
         "name": "Jan 2022"
        },
        {
         "data": [
          {
           "colorscale": [
            [
             0,
             "#96b9d0"
            ],
            [
             1,
             "#96b9d0"
            ]
           ],
           "geo": "geo",
           "hovertemplate": "spend recovered=True<br>year_label=Jan 2023<br>state_abbrev=%{location}<extra></extra>",
           "locationmode": "USA-states",
           "locations": [
            "AL",
            "AK",
            "AZ",
            "AR",
            "CO",
            "CT",
            "DE",
            "DC",
            "FL",
            "GA",
            "HI",
            "ID",
            "IL",
            "IN",
            "IA",
            "KS",
            "KY",
            "LA",
            "ME",
            "MD",
            "MA",
            "MI",
            "MN",
            "MS",
            "MO",
            "MT",
            "NE",
            "NH",
            "NJ",
            "NM",
            "NY",
            "NC",
            "ND",
            "OH",
            "OK",
            "OR",
            "PA",
            "RI",
            "SC",
            "SD",
            "TN",
            "TX",
            "UT",
            "VT",
            "VA",
            "WA",
            "WV",
            "WI",
            "WY"
           ],
           "name": "True",
           "showlegend": true,
           "showscale": false,
           "type": "choropleth",
           "z": [
            1,
            1,
            1,
            1,
            1,
            1,
            1,
            1,
            1,
            1,
            1,
            1,
            1,
            1,
            1,
            1,
            1,
            1,
            1,
            1,
            1,
            1,
            1,
            1,
            1,
            1,
            1,
            1,
            1,
            1,
            1,
            1,
            1,
            1,
            1,
            1,
            1,
            1,
            1,
            1,
            1,
            1,
            1,
            1,
            1,
            1,
            1,
            1,
            1
           ]
          },
          {
           "colorscale": [
            [
             0,
             "#ffd5b6"
            ],
            [
             1,
             "#ffd5b6"
            ]
           ],
           "geo": "geo",
           "hovertemplate": "spend recovered=False<br>year_label=Jan 2023<br>state_abbrev=%{location}<extra></extra>",
           "locationmode": "USA-states",
           "locations": [
            "CA",
            "NV"
           ],
           "name": "False",
           "showlegend": true,
           "showscale": false,
           "type": "choropleth",
           "z": [
            1,
            1
           ]
          }
         ],
         "name": "Jan 2023"
        },
        {
         "data": [
          {
           "colorscale": [
            [
             0,
             "#96b9d0"
            ],
            [
             1,
             "#96b9d0"
            ]
           ],
           "geo": "geo",
           "hovertemplate": "spend recovered=True<br>year_label=Jan 2024<br>state_abbrev=%{location}<extra></extra>",
           "locationmode": "USA-states",
           "locations": [
            "AL",
            "AK",
            "AZ",
            "AR",
            "CO",
            "CT",
            "DE",
            "DC",
            "FL",
            "GA",
            "HI",
            "ID",
            "IL",
            "IN",
            "IA",
            "KS",
            "KY",
            "LA",
            "ME",
            "MD",
            "MA",
            "MI",
            "MN",
            "MS",
            "MO",
            "MT",
            "NE",
            "NV",
            "NH",
            "NJ",
            "NM",
            "NY",
            "NC",
            "ND",
            "OH",
            "OK",
            "OR",
            "PA",
            "RI",
            "SC",
            "SD",
            "TN",
            "TX",
            "UT",
            "VT",
            "VA",
            "WA",
            "WV",
            "WI",
            "WY"
           ],
           "name": "True",
           "showlegend": true,
           "showscale": false,
           "type": "choropleth",
           "z": [
            1,
            1,
            1,
            1,
            1,
            1,
            1,
            1,
            1,
            1,
            1,
            1,
            1,
            1,
            1,
            1,
            1,
            1,
            1,
            1,
            1,
            1,
            1,
            1,
            1,
            1,
            1,
            1,
            1,
            1,
            1,
            1,
            1,
            1,
            1,
            1,
            1,
            1,
            1,
            1,
            1,
            1,
            1,
            1,
            1,
            1,
            1,
            1,
            1,
            1
           ]
          },
          {
           "colorscale": [
            [
             0,
             "#ffd5b6"
            ],
            [
             1,
             "#ffd5b6"
            ]
           ],
           "geo": "geo",
           "hovertemplate": "spend recovered=False<br>year_label=Jan 2024<br>state_abbrev=%{location}<extra></extra>",
           "locationmode": "USA-states",
           "locations": [
            "CA"
           ],
           "name": "False",
           "showlegend": true,
           "showscale": false,
           "type": "choropleth",
           "z": [
            1
           ]
          }
         ],
         "name": "Jan 2024"
        },
        {
         "data": [
          {
           "colorscale": [
            [
             0,
             "#96b9d0"
            ],
            [
             1,
             "#96b9d0"
            ]
           ],
           "geo": "geo",
           "hovertemplate": "spend recovered=True<br>year_label=Jan 2025<br>state_abbrev=%{location}<extra></extra>",
           "locationmode": "USA-states",
           "locations": [
            "AL",
            "AK",
            "AZ",
            "AR",
            "CO",
            "CT",
            "DE",
            "DC",
            "FL",
            "GA",
            "HI",
            "ID",
            "IL",
            "IN",
            "IA",
            "KS",
            "KY",
            "LA",
            "ME",
            "MD",
            "MA",
            "MI",
            "MN",
            "MS",
            "MO",
            "MT",
            "NE",
            "NV",
            "NH",
            "NJ",
            "NM",
            "NY",
            "NC",
            "ND",
            "OH",
            "OK",
            "OR",
            "PA",
            "RI",
            "SC",
            "SD",
            "TN",
            "TX",
            "UT",
            "VT",
            "VA",
            "WA",
            "WV",
            "WI",
            "WY"
           ],
           "name": "True",
           "showlegend": true,
           "showscale": false,
           "type": "choropleth",
           "z": [
            1,
            1,
            1,
            1,
            1,
            1,
            1,
            1,
            1,
            1,
            1,
            1,
            1,
            1,
            1,
            1,
            1,
            1,
            1,
            1,
            1,
            1,
            1,
            1,
            1,
            1,
            1,
            1,
            1,
            1,
            1,
            1,
            1,
            1,
            1,
            1,
            1,
            1,
            1,
            1,
            1,
            1,
            1,
            1,
            1,
            1,
            1,
            1,
            1,
            1
           ]
          },
          {
           "colorscale": [
            [
             0,
             "#ffd5b6"
            ],
            [
             1,
             "#ffd5b6"
            ]
           ],
           "geo": "geo",
           "hovertemplate": "spend recovered=False<br>year_label=Jan 2025<br>state_abbrev=%{location}<extra></extra>",
           "locationmode": "USA-states",
           "locations": [
            "CA"
           ],
           "name": "False",
           "showlegend": true,
           "showscale": false,
           "type": "choropleth",
           "z": [
            1
           ]
          }
         ],
         "name": "Jan 2025"
        }
       ],
       "layout": {
        "geo": {
         "center": {},
         "domain": {
          "x": [
           0,
           1
          ],
          "y": [
           0,
           1
          ]
         },
         "scope": "usa"
        },
        "height": 600,
        "legend": {
         "title": {
          "text": "spend recovered"
         },
         "tracegroupgap": 0
        },
        "sliders": [
         {
          "active": 0,
          "currentvalue": {
           "prefix": "year_label="
          },
          "len": 0.9,
          "pad": {
           "b": 10,
           "t": 60
          },
          "steps": [
           {
            "args": [
             [
              "Jan 2021"
             ],
             {
              "frame": {
               "duration": 0,
               "redraw": true
              },
              "fromcurrent": true,
              "mode": "immediate",
              "transition": {
               "duration": 0,
               "easing": "linear"
              }
             }
            ],
            "label": "Jan 2021",
            "method": "animate"
           },
           {
            "args": [
             [
              "Jan 2022"
             ],
             {
              "frame": {
               "duration": 0,
               "redraw": true
              },
              "fromcurrent": true,
              "mode": "immediate",
              "transition": {
               "duration": 0,
               "easing": "linear"
              }
             }
            ],
            "label": "Jan 2022",
            "method": "animate"
           },
           {
            "args": [
             [
              "Jan 2023"
             ],
             {
              "frame": {
               "duration": 0,
               "redraw": true
              },
              "fromcurrent": true,
              "mode": "immediate",
              "transition": {
               "duration": 0,
               "easing": "linear"
              }
             }
            ],
            "label": "Jan 2023",
            "method": "animate"
           },
           {
            "args": [
             [
              "Jan 2024"
             ],
             {
              "frame": {
               "duration": 0,
               "redraw": true
              },
              "fromcurrent": true,
              "mode": "immediate",
              "transition": {
               "duration": 0,
               "easing": "linear"
              }
             }
            ],
            "label": "Jan 2024",
            "method": "animate"
           },
           {
            "args": [
             [
              "Jan 2025"
             ],
             {
              "frame": {
               "duration": 0,
               "redraw": true
              },
              "fromcurrent": true,
              "mode": "immediate",
              "transition": {
               "duration": 0,
               "easing": "linear"
              }
             }
            ],
            "label": "Jan 2025",
            "method": "animate"
           }
          ],
          "x": 0.1,
          "xanchor": "left",
          "y": 0,
          "yanchor": "top"
         }
        ],
        "template": {
         "data": {
          "bar": [
           {
            "error_x": {
             "color": "#2a3f5f"
            },
            "error_y": {
             "color": "#2a3f5f"
            },
            "marker": {
             "line": {
              "color": "#E5ECF6",
              "width": 0.5
             },
             "pattern": {
              "fillmode": "overlay",
              "size": 10,
              "solidity": 0.2
             }
            },
            "type": "bar"
           }
          ],
          "barpolar": [
           {
            "marker": {
             "line": {
              "color": "#E5ECF6",
              "width": 0.5
             },
             "pattern": {
              "fillmode": "overlay",
              "size": 10,
              "solidity": 0.2
             }
            },
            "type": "barpolar"
           }
          ],
          "carpet": [
           {
            "aaxis": {
             "endlinecolor": "#2a3f5f",
             "gridcolor": "white",
             "linecolor": "white",
             "minorgridcolor": "white",
             "startlinecolor": "#2a3f5f"
            },
            "baxis": {
             "endlinecolor": "#2a3f5f",
             "gridcolor": "white",
             "linecolor": "white",
             "minorgridcolor": "white",
             "startlinecolor": "#2a3f5f"
            },
            "type": "carpet"
           }
          ],
          "choropleth": [
           {
            "colorbar": {
             "outlinewidth": 0,
             "ticks": ""
            },
            "type": "choropleth"
           }
          ],
          "contour": [
           {
            "colorbar": {
             "outlinewidth": 0,
             "ticks": ""
            },
            "colorscale": [
             [
              0,
              "#0d0887"
             ],
             [
              0.1111111111111111,
              "#46039f"
             ],
             [
              0.2222222222222222,
              "#7201a8"
             ],
             [
              0.3333333333333333,
              "#9c179e"
             ],
             [
              0.4444444444444444,
              "#bd3786"
             ],
             [
              0.5555555555555556,
              "#d8576b"
             ],
             [
              0.6666666666666666,
              "#ed7953"
             ],
             [
              0.7777777777777778,
              "#fb9f3a"
             ],
             [
              0.8888888888888888,
              "#fdca26"
             ],
             [
              1,
              "#f0f921"
             ]
            ],
            "type": "contour"
           }
          ],
          "contourcarpet": [
           {
            "colorbar": {
             "outlinewidth": 0,
             "ticks": ""
            },
            "type": "contourcarpet"
           }
          ],
          "heatmap": [
           {
            "colorbar": {
             "outlinewidth": 0,
             "ticks": ""
            },
            "colorscale": [
             [
              0,
              "#0d0887"
             ],
             [
              0.1111111111111111,
              "#46039f"
             ],
             [
              0.2222222222222222,
              "#7201a8"
             ],
             [
              0.3333333333333333,
              "#9c179e"
             ],
             [
              0.4444444444444444,
              "#bd3786"
             ],
             [
              0.5555555555555556,
              "#d8576b"
             ],
             [
              0.6666666666666666,
              "#ed7953"
             ],
             [
              0.7777777777777778,
              "#fb9f3a"
             ],
             [
              0.8888888888888888,
              "#fdca26"
             ],
             [
              1,
              "#f0f921"
             ]
            ],
            "type": "heatmap"
           }
          ],
          "histogram": [
           {
            "marker": {
             "pattern": {
              "fillmode": "overlay",
              "size": 10,
              "solidity": 0.2
             }
            },
            "type": "histogram"
           }
          ],
          "histogram2d": [
           {
            "colorbar": {
             "outlinewidth": 0,
             "ticks": ""
            },
            "colorscale": [
             [
              0,
              "#0d0887"
             ],
             [
              0.1111111111111111,
              "#46039f"
             ],
             [
              0.2222222222222222,
              "#7201a8"
             ],
             [
              0.3333333333333333,
              "#9c179e"
             ],
             [
              0.4444444444444444,
              "#bd3786"
             ],
             [
              0.5555555555555556,
              "#d8576b"
             ],
             [
              0.6666666666666666,
              "#ed7953"
             ],
             [
              0.7777777777777778,
              "#fb9f3a"
             ],
             [
              0.8888888888888888,
              "#fdca26"
             ],
             [
              1,
              "#f0f921"
             ]
            ],
            "type": "histogram2d"
           }
          ],
          "histogram2dcontour": [
           {
            "colorbar": {
             "outlinewidth": 0,
             "ticks": ""
            },
            "colorscale": [
             [
              0,
              "#0d0887"
             ],
             [
              0.1111111111111111,
              "#46039f"
             ],
             [
              0.2222222222222222,
              "#7201a8"
             ],
             [
              0.3333333333333333,
              "#9c179e"
             ],
             [
              0.4444444444444444,
              "#bd3786"
             ],
             [
              0.5555555555555556,
              "#d8576b"
             ],
             [
              0.6666666666666666,
              "#ed7953"
             ],
             [
              0.7777777777777778,
              "#fb9f3a"
             ],
             [
              0.8888888888888888,
              "#fdca26"
             ],
             [
              1,
              "#f0f921"
             ]
            ],
            "type": "histogram2dcontour"
           }
          ],
          "mesh3d": [
           {
            "colorbar": {
             "outlinewidth": 0,
             "ticks": ""
            },
            "type": "mesh3d"
           }
          ],
          "parcoords": [
           {
            "line": {
             "colorbar": {
              "outlinewidth": 0,
              "ticks": ""
             }
            },
            "type": "parcoords"
           }
          ],
          "pie": [
           {
            "automargin": true,
            "type": "pie"
           }
          ],
          "scatter": [
           {
            "fillpattern": {
             "fillmode": "overlay",
             "size": 10,
             "solidity": 0.2
            },
            "type": "scatter"
           }
          ],
          "scatter3d": [
           {
            "line": {
             "colorbar": {
              "outlinewidth": 0,
              "ticks": ""
             }
            },
            "marker": {
             "colorbar": {
              "outlinewidth": 0,
              "ticks": ""
             }
            },
            "type": "scatter3d"
           }
          ],
          "scattercarpet": [
           {
            "marker": {
             "colorbar": {
              "outlinewidth": 0,
              "ticks": ""
             }
            },
            "type": "scattercarpet"
           }
          ],
          "scattergeo": [
           {
            "marker": {
             "colorbar": {
              "outlinewidth": 0,
              "ticks": ""
             }
            },
            "type": "scattergeo"
           }
          ],
          "scattergl": [
           {
            "marker": {
             "colorbar": {
              "outlinewidth": 0,
              "ticks": ""
             }
            },
            "type": "scattergl"
           }
          ],
          "scattermap": [
           {
            "marker": {
             "colorbar": {
              "outlinewidth": 0,
              "ticks": ""
             }
            },
            "type": "scattermap"
           }
          ],
          "scattermapbox": [
           {
            "marker": {
             "colorbar": {
              "outlinewidth": 0,
              "ticks": ""
             }
            },
            "type": "scattermapbox"
           }
          ],
          "scatterpolar": [
           {
            "marker": {
             "colorbar": {
              "outlinewidth": 0,
              "ticks": ""
             }
            },
            "type": "scatterpolar"
           }
          ],
          "scatterpolargl": [
           {
            "marker": {
             "colorbar": {
              "outlinewidth": 0,
              "ticks": ""
             }
            },
            "type": "scatterpolargl"
           }
          ],
          "scatterternary": [
           {
            "marker": {
             "colorbar": {
              "outlinewidth": 0,
              "ticks": ""
             }
            },
            "type": "scatterternary"
           }
          ],
          "surface": [
           {
            "colorbar": {
             "outlinewidth": 0,
             "ticks": ""
            },
            "colorscale": [
             [
              0,
              "#0d0887"
             ],
             [
              0.1111111111111111,
              "#46039f"
             ],
             [
              0.2222222222222222,
              "#7201a8"
             ],
             [
              0.3333333333333333,
              "#9c179e"
             ],
             [
              0.4444444444444444,
              "#bd3786"
             ],
             [
              0.5555555555555556,
              "#d8576b"
             ],
             [
              0.6666666666666666,
              "#ed7953"
             ],
             [
              0.7777777777777778,
              "#fb9f3a"
             ],
             [
              0.8888888888888888,
              "#fdca26"
             ],
             [
              1,
              "#f0f921"
             ]
            ],
            "type": "surface"
           }
          ],
          "table": [
           {
            "cells": {
             "fill": {
              "color": "#EBF0F8"
             },
             "line": {
              "color": "white"
             }
            },
            "header": {
             "fill": {
              "color": "#C8D4E3"
             },
             "line": {
              "color": "white"
             }
            },
            "type": "table"
           }
          ]
         },
         "layout": {
          "annotationdefaults": {
           "arrowcolor": "#2a3f5f",
           "arrowhead": 0,
           "arrowwidth": 1
          },
          "autotypenumbers": "strict",
          "coloraxis": {
           "colorbar": {
            "outlinewidth": 0,
            "ticks": ""
           }
          },
          "colorscale": {
           "diverging": [
            [
             0,
             "#8e0152"
            ],
            [
             0.1,
             "#c51b7d"
            ],
            [
             0.2,
             "#de77ae"
            ],
            [
             0.3,
             "#f1b6da"
            ],
            [
             0.4,
             "#fde0ef"
            ],
            [
             0.5,
             "#f7f7f7"
            ],
            [
             0.6,
             "#e6f5d0"
            ],
            [
             0.7,
             "#b8e186"
            ],
            [
             0.8,
             "#7fbc41"
            ],
            [
             0.9,
             "#4d9221"
            ],
            [
             1,
             "#276419"
            ]
           ],
           "sequential": [
            [
             0,
             "#0d0887"
            ],
            [
             0.1111111111111111,
             "#46039f"
            ],
            [
             0.2222222222222222,
             "#7201a8"
            ],
            [
             0.3333333333333333,
             "#9c179e"
            ],
            [
             0.4444444444444444,
             "#bd3786"
            ],
            [
             0.5555555555555556,
             "#d8576b"
            ],
            [
             0.6666666666666666,
             "#ed7953"
            ],
            [
             0.7777777777777778,
             "#fb9f3a"
            ],
            [
             0.8888888888888888,
             "#fdca26"
            ],
            [
             1,
             "#f0f921"
            ]
           ],
           "sequentialminus": [
            [
             0,
             "#0d0887"
            ],
            [
             0.1111111111111111,
             "#46039f"
            ],
            [
             0.2222222222222222,
             "#7201a8"
            ],
            [
             0.3333333333333333,
             "#9c179e"
            ],
            [
             0.4444444444444444,
             "#bd3786"
            ],
            [
             0.5555555555555556,
             "#d8576b"
            ],
            [
             0.6666666666666666,
             "#ed7953"
            ],
            [
             0.7777777777777778,
             "#fb9f3a"
            ],
            [
             0.8888888888888888,
             "#fdca26"
            ],
            [
             1,
             "#f0f921"
            ]
           ]
          },
          "colorway": [
           "#636efa",
           "#EF553B",
           "#00cc96",
           "#ab63fa",
           "#FFA15A",
           "#19d3f3",
           "#FF6692",
           "#B6E880",
           "#FF97FF",
           "#FECB52"
          ],
          "font": {
           "color": "#2a3f5f"
          },
          "geo": {
           "bgcolor": "white",
           "lakecolor": "white",
           "landcolor": "#E5ECF6",
           "showlakes": true,
           "showland": true,
           "subunitcolor": "white"
          },
          "hoverlabel": {
           "align": "left"
          },
          "hovermode": "closest",
          "mapbox": {
           "style": "light"
          },
          "paper_bgcolor": "white",
          "plot_bgcolor": "#E5ECF6",
          "polar": {
           "angularaxis": {
            "gridcolor": "white",
            "linecolor": "white",
            "ticks": ""
           },
           "bgcolor": "#E5ECF6",
           "radialaxis": {
            "gridcolor": "white",
            "linecolor": "white",
            "ticks": ""
           }
          },
          "scene": {
           "xaxis": {
            "backgroundcolor": "#E5ECF6",
            "gridcolor": "white",
            "gridwidth": 2,
            "linecolor": "white",
            "showbackground": true,
            "ticks": "",
            "zerolinecolor": "white"
           },
           "yaxis": {
            "backgroundcolor": "#E5ECF6",
            "gridcolor": "white",
            "gridwidth": 2,
            "linecolor": "white",
            "showbackground": true,
            "ticks": "",
            "zerolinecolor": "white"
           },
           "zaxis": {
            "backgroundcolor": "#E5ECF6",
            "gridcolor": "white",
            "gridwidth": 2,
            "linecolor": "white",
            "showbackground": true,
            "ticks": "",
            "zerolinecolor": "white"
           }
          },
          "shapedefaults": {
           "line": {
            "color": "#2a3f5f"
           }
          },
          "ternary": {
           "aaxis": {
            "gridcolor": "white",
            "linecolor": "white",
            "ticks": ""
           },
           "baxis": {
            "gridcolor": "white",
            "linecolor": "white",
            "ticks": ""
           },
           "bgcolor": "#E5ECF6",
           "caxis": {
            "gridcolor": "white",
            "linecolor": "white",
            "ticks": ""
           }
          },
          "title": {
           "x": 0.05
          },
          "xaxis": {
           "automargin": true,
           "gridcolor": "white",
           "linecolor": "white",
           "ticks": "",
           "title": {
            "standoff": 15
           },
           "zerolinecolor": "white",
           "zerolinewidth": 2
          },
          "yaxis": {
           "automargin": true,
           "gridcolor": "white",
           "linecolor": "white",
           "ticks": "",
           "title": {
            "standoff": 15
           },
           "zerolinecolor": "white",
           "zerolinewidth": 2
          }
         }
        },
        "title": {
         "text": "Consumer Spending Recovery by State (Jan 2021–2025)"
        },
        "updatemenus": [
         {
          "buttons": [
           {
            "args": [
             null,
             {
              "frame": {
               "duration": 500,
               "redraw": true
              },
              "fromcurrent": true,
              "mode": "immediate",
              "transition": {
               "duration": 500,
               "easing": "linear"
              }
             }
            ],
            "label": "&#9654;",
            "method": "animate"
           },
           {
            "args": [
             [
              null
             ],
             {
              "frame": {
               "duration": 0,
               "redraw": true
              },
              "fromcurrent": true,
              "mode": "immediate",
              "transition": {
               "duration": 0,
               "easing": "linear"
              }
             }
            ],
            "label": "&#9724;",
            "method": "animate"
           }
          ],
          "direction": "left",
          "pad": {
           "r": 10,
           "t": 70
          },
          "showactive": false,
          "type": "buttons",
          "x": 0.1,
          "xanchor": "right",
          "y": 0,
          "yanchor": "top"
         }
        ],
        "width": 1000
       }
      }
     },
     "metadata": {},
     "output_type": "display_data"
    }
   ],
   "source": [
    "# view spend recovery rates for each state every year after covid-19\n",
    "\n",
    "state_abbrev = {\n",
    "    'Alabama': 'AL', 'Alaska': 'AK', 'Arizona': 'AZ', 'Arkansas': 'AR', 'California': 'CA', 'Colorado': 'CO', 'Connecticut': 'CT',\n",
    "    'Delaware': 'DE', 'Florida': 'FL', 'Georgia': 'GA', 'Hawaii': 'HI', 'Idaho': 'ID', 'Illinois': 'IL', 'Indiana': 'IN',\n",
    "    'Iowa': 'IA', 'Kansas': 'KS', 'Kentucky': 'KY', 'Louisiana': 'LA', 'Maine': 'ME', 'Maryland': 'MD', 'Massachusetts': 'MA',\n",
    "    'Michigan': 'MI', 'Minnesota': 'MN', 'Mississippi': 'MS', 'Missouri': 'MO', 'Montana': 'MT', 'Nebraska': 'NE', 'Nevada': 'NV',\n",
    "    'New Hampshire': 'NH', 'New Jersey': 'NJ', 'New Mexico': 'NM', 'New York': 'NY', 'North Carolina': 'NC', 'North Dakota': 'ND',\n",
    "    'Ohio': 'OH', 'Oklahoma': 'OK', 'Oregon': 'OR', 'Pennsylvania': 'PA', 'Rhode Island': 'RI', 'South Carolina': 'SC', 'South Dakota': 'SD',\n",
    "    'Tennessee': 'TN', 'Texas': 'TX', 'Utah': 'UT', 'Vermont': 'VT', 'Virginia': 'VA', 'Washington': 'WA', 'West Virginia': 'WV',\n",
    "    'Wisconsin': 'WI', 'Wyoming': 'WY', 'District of Columbia': 'DC'\n",
    "}\n",
    "\n",
    "# select March of each year after 2020\n",
    "df_jan = df[(df['month'] == 1) & (df['year'] > 2020)]\n",
    "df_jan['year_label'] = 'Jan ' + df_jan['year'].astype(str)\n",
    "\n",
    "# make a new col for state abbreviations\n",
    "df_jan['state_abbrev'] = df_jan['statename'].map(state_abbrev)\n",
    "\n",
    "\n",
    "fig = px.choropleth(\n",
    "    df_jan,\n",
    "    locations='state_abbrev',\n",
    "    locationmode='USA-states',\n",
    "    color='spend recovered',\n",
    "    color_discrete_map={True: '#96b9d0', False: '#ffd5b6'},\n",
    "    scope='usa',\n",
    "    animation_frame='year_label', \n",
    "    title='Consumer Spending Recovery by State (Jan 2021–2025)',\n",
    "    width=1000,\n",
    "    height=600,\n",
    ")\n",
    "\n",
    "\n",
    "fig.show()\n"
   ]
  },
  {
   "cell_type": "code",
   "execution_count": 20,
   "metadata": {},
   "outputs": [
    {
     "data": {
      "application/vnd.plotly.v1+json": {
       "config": {
        "plotlyServerURL": "https://plot.ly"
       },
       "data": [
        {
         "colorscale": [
          [
           0,
           "#ffd5b6"
          ],
          [
           1,
           "#ffd5b6"
          ]
         ],
         "geo": "geo",
         "hovertemplate": "emp recovered=False<br>year_label=Jan 2021<br>state_abbrev=%{location}<extra></extra>",
         "locationmode": "USA-states",
         "locations": [
          "AL",
          "AK",
          "AZ",
          "AR",
          "CA",
          "CO",
          "CT",
          "DE",
          "DC",
          "FL",
          "GA",
          "HI",
          "IL",
          "IN",
          "IA",
          "KS",
          "KY",
          "LA",
          "ME",
          "MD",
          "MA",
          "MI",
          "MN",
          "MO",
          "MT",
          "NE",
          "NV",
          "NH",
          "NJ",
          "NM",
          "NY",
          "NC",
          "ND",
          "OH",
          "OK",
          "OR",
          "PA",
          "RI",
          "SC",
          "SD",
          "TN",
          "TX",
          "UT",
          "VT",
          "VA",
          "WA",
          "WV",
          "WI"
         ],
         "name": "False",
         "showlegend": true,
         "showscale": false,
         "type": "choropleth",
         "z": [
          1,
          1,
          1,
          1,
          1,
          1,
          1,
          1,
          1,
          1,
          1,
          1,
          1,
          1,
          1,
          1,
          1,
          1,
          1,
          1,
          1,
          1,
          1,
          1,
          1,
          1,
          1,
          1,
          1,
          1,
          1,
          1,
          1,
          1,
          1,
          1,
          1,
          1,
          1,
          1,
          1,
          1,
          1,
          1,
          1,
          1,
          1,
          1
         ]
        },
        {
         "colorscale": [
          [
           0,
           "#96b9d0"
          ],
          [
           1,
           "#96b9d0"
          ]
         ],
         "geo": "geo",
         "hovertemplate": "emp recovered=True<br>year_label=Jan 2021<br>state_abbrev=%{location}<extra></extra>",
         "locationmode": "USA-states",
         "locations": [
          "ID",
          "MS",
          "WY"
         ],
         "name": "True",
         "showlegend": true,
         "showscale": false,
         "type": "choropleth",
         "z": [
          1,
          1,
          1
         ]
        }
       ],
       "frames": [
        {
         "data": [
          {
           "colorscale": [
            [
             0,
             "#ffd5b6"
            ],
            [
             1,
             "#ffd5b6"
            ]
           ],
           "geo": "geo",
           "hovertemplate": "emp recovered=False<br>year_label=Jan 2021<br>state_abbrev=%{location}<extra></extra>",
           "locationmode": "USA-states",
           "locations": [
            "AL",
            "AK",
            "AZ",
            "AR",
            "CA",
            "CO",
            "CT",
            "DE",
            "DC",
            "FL",
            "GA",
            "HI",
            "IL",
            "IN",
            "IA",
            "KS",
            "KY",
            "LA",
            "ME",
            "MD",
            "MA",
            "MI",
            "MN",
            "MO",
            "MT",
            "NE",
            "NV",
            "NH",
            "NJ",
            "NM",
            "NY",
            "NC",
            "ND",
            "OH",
            "OK",
            "OR",
            "PA",
            "RI",
            "SC",
            "SD",
            "TN",
            "TX",
            "UT",
            "VT",
            "VA",
            "WA",
            "WV",
            "WI"
           ],
           "name": "False",
           "showlegend": true,
           "showscale": false,
           "type": "choropleth",
           "z": [
            1,
            1,
            1,
            1,
            1,
            1,
            1,
            1,
            1,
            1,
            1,
            1,
            1,
            1,
            1,
            1,
            1,
            1,
            1,
            1,
            1,
            1,
            1,
            1,
            1,
            1,
            1,
            1,
            1,
            1,
            1,
            1,
            1,
            1,
            1,
            1,
            1,
            1,
            1,
            1,
            1,
            1,
            1,
            1,
            1,
            1,
            1,
            1
           ]
          },
          {
           "colorscale": [
            [
             0,
             "#96b9d0"
            ],
            [
             1,
             "#96b9d0"
            ]
           ],
           "geo": "geo",
           "hovertemplate": "emp recovered=True<br>year_label=Jan 2021<br>state_abbrev=%{location}<extra></extra>",
           "locationmode": "USA-states",
           "locations": [
            "ID",
            "MS",
            "WY"
           ],
           "name": "True",
           "showlegend": true,
           "showscale": false,
           "type": "choropleth",
           "z": [
            1,
            1,
            1
           ]
          }
         ],
         "name": "Jan 2021"
        },
        {
         "data": [
          {
           "colorscale": [
            [
             0,
             "#ffd5b6"
            ],
            [
             1,
             "#ffd5b6"
            ]
           ],
           "geo": "geo",
           "hovertemplate": "emp recovered=False<br>year_label=Jan 2022<br>state_abbrev=%{location}<extra></extra>",
           "locationmode": "USA-states",
           "locations": [
            "AL",
            "AZ",
            "AR",
            "CA",
            "CO",
            "CT",
            "DC",
            "FL",
            "GA",
            "HI",
            "IL",
            "IN",
            "IA",
            "KY",
            "LA",
            "MD",
            "MA",
            "MI",
            "MN",
            "MO",
            "NE",
            "NV",
            "NH",
            "NJ",
            "NY",
            "ND",
            "OH",
            "OK",
            "OR",
            "PA",
            "RI",
            "SC",
            "TX",
            "UT",
            "VA",
            "WA",
            "WV",
            "WI"
           ],
           "name": "False",
           "showlegend": true,
           "showscale": false,
           "type": "choropleth",
           "z": [
            1,
            1,
            1,
            1,
            1,
            1,
            1,
            1,
            1,
            1,
            1,
            1,
            1,
            1,
            1,
            1,
            1,
            1,
            1,
            1,
            1,
            1,
            1,
            1,
            1,
            1,
            1,
            1,
            1,
            1,
            1,
            1,
            1,
            1,
            1,
            1,
            1,
            1
           ]
          },
          {
           "colorscale": [
            [
             0,
             "#96b9d0"
            ],
            [
             1,
             "#96b9d0"
            ]
           ],
           "geo": "geo",
           "hovertemplate": "emp recovered=True<br>year_label=Jan 2022<br>state_abbrev=%{location}<extra></extra>",
           "locationmode": "USA-states",
           "locations": [
            "AK",
            "DE",
            "ID",
            "KS",
            "ME",
            "MS",
            "MT",
            "NM",
            "NC",
            "SD",
            "TN",
            "VT",
            "WY"
           ],
           "name": "True",
           "showlegend": true,
           "showscale": false,
           "type": "choropleth",
           "z": [
            1,
            1,
            1,
            1,
            1,
            1,
            1,
            1,
            1,
            1,
            1,
            1,
            1
           ]
          }
         ],
         "name": "Jan 2022"
        },
        {
         "data": [
          {
           "colorscale": [
            [
             0,
             "#ffd5b6"
            ],
            [
             1,
             "#ffd5b6"
            ]
           ],
           "geo": "geo",
           "hovertemplate": "emp recovered=False<br>year_label=Jan 2023<br>state_abbrev=%{location}<extra></extra>",
           "locationmode": "USA-states",
           "locations": [
            "AL",
            "AZ",
            "AR",
            "CA",
            "CO",
            "CT",
            "DC",
            "FL",
            "GA",
            "HI",
            "IL",
            "IN",
            "LA",
            "MD",
            "MA",
            "MI",
            "MN",
            "MO",
            "NE",
            "NV",
            "NH",
            "NJ",
            "NY",
            "OH",
            "OK",
            "OR",
            "PA",
            "RI",
            "TX",
            "UT",
            "VA",
            "WA",
            "WI"
           ],
           "name": "False",
           "showlegend": true,
           "showscale": false,
           "type": "choropleth",
           "z": [
            1,
            1,
            1,
            1,
            1,
            1,
            1,
            1,
            1,
            1,
            1,
            1,
            1,
            1,
            1,
            1,
            1,
            1,
            1,
            1,
            1,
            1,
            1,
            1,
            1,
            1,
            1,
            1,
            1,
            1,
            1,
            1,
            1
           ]
          },
          {
           "colorscale": [
            [
             0,
             "#96b9d0"
            ],
            [
             1,
             "#96b9d0"
            ]
           ],
           "geo": "geo",
           "hovertemplate": "emp recovered=True<br>year_label=Jan 2023<br>state_abbrev=%{location}<extra></extra>",
           "locationmode": "USA-states",
           "locations": [
            "AK",
            "DE",
            "ID",
            "IA",
            "KS",
            "KY",
            "ME",
            "MS",
            "MT",
            "NM",
            "NC",
            "SC",
            "SD",
            "TN",
            "VT",
            "WV",
            "WY"
           ],
           "name": "True",
           "showlegend": true,
           "showscale": false,
           "type": "choropleth",
           "z": [
            1,
            1,
            1,
            1,
            1,
            1,
            1,
            1,
            1,
            1,
            1,
            1,
            1,
            1,
            1,
            1,
            1
           ]
          }
         ],
         "name": "Jan 2023"
        },
        {
         "data": [
          {
           "colorscale": [
            [
             0,
             "#ffd5b6"
            ],
            [
             1,
             "#ffd5b6"
            ]
           ],
           "geo": "geo",
           "hovertemplate": "emp recovered=False<br>year_label=Jan 2024<br>state_abbrev=%{location}<extra></extra>",
           "locationmode": "USA-states",
           "locations": [
            "AL",
            "AZ",
            "AR",
            "CA",
            "CO",
            "CT",
            "DE",
            "DC",
            "FL",
            "GA",
            "IL",
            "IN",
            "LA",
            "MD",
            "MA",
            "MI",
            "MN",
            "MO",
            "NE",
            "NV",
            "NH",
            "NJ",
            "NY",
            "OH",
            "OK",
            "OR",
            "PA",
            "RI",
            "TX",
            "UT",
            "VA",
            "WA",
            "WI"
           ],
           "name": "False",
           "showlegend": true,
           "showscale": false,
           "type": "choropleth",
           "z": [
            1,
            1,
            1,
            1,
            1,
            1,
            1,
            1,
            1,
            1,
            1,
            1,
            1,
            1,
            1,
            1,
            1,
            1,
            1,
            1,
            1,
            1,
            1,
            1,
            1,
            1,
            1,
            1,
            1,
            1,
            1,
            1,
            1
           ]
          },
          {
           "colorscale": [
            [
             0,
             "#96b9d0"
            ],
            [
             1,
             "#96b9d0"
            ]
           ],
           "geo": "geo",
           "hovertemplate": "emp recovered=True<br>year_label=Jan 2024<br>state_abbrev=%{location}<extra></extra>",
           "locationmode": "USA-states",
           "locations": [
            "AK",
            "HI",
            "ID",
            "IA",
            "KS",
            "KY",
            "ME",
            "MS",
            "MT",
            "NM",
            "NC",
            "SC",
            "SD",
            "TN",
            "VT",
            "WV",
            "WY"
           ],
           "name": "True",
           "showlegend": true,
           "showscale": false,
           "type": "choropleth",
           "z": [
            1,
            1,
            1,
            1,
            1,
            1,
            1,
            1,
            1,
            1,
            1,
            1,
            1,
            1,
            1,
            1,
            1
           ]
          }
         ],
         "name": "Jan 2024"
        },
        {
         "data": [
          {
           "colorscale": [
            [
             0,
             "#ffd5b6"
            ],
            [
             1,
             "#ffd5b6"
            ]
           ],
           "geo": "geo",
           "hovertemplate": "emp recovered=False<br>year_label=Jan 2025<br>state_abbrev=%{location}<extra></extra>",
           "locationmode": "USA-states",
           "locations": [
            "AL",
            "AZ",
            "AR",
            "CA",
            "CO",
            "CT",
            "DE",
            "DC",
            "FL",
            "GA",
            "HI",
            "IL",
            "IN",
            "LA",
            "ME",
            "MD",
            "MA",
            "MI",
            "MN",
            "MO",
            "NE",
            "NV",
            "NH",
            "NJ",
            "NY",
            "OH",
            "OK",
            "OR",
            "PA",
            "RI",
            "TX",
            "UT",
            "VA",
            "WA",
            "WI"
           ],
           "name": "False",
           "showlegend": true,
           "showscale": false,
           "type": "choropleth",
           "z": [
            1,
            1,
            1,
            1,
            1,
            1,
            1,
            1,
            1,
            1,
            1,
            1,
            1,
            1,
            1,
            1,
            1,
            1,
            1,
            1,
            1,
            1,
            1,
            1,
            1,
            1,
            1,
            1,
            1,
            1,
            1,
            1,
            1,
            1,
            1
           ]
          },
          {
           "colorscale": [
            [
             0,
             "#96b9d0"
            ],
            [
             1,
             "#96b9d0"
            ]
           ],
           "geo": "geo",
           "hovertemplate": "emp recovered=True<br>year_label=Jan 2025<br>state_abbrev=%{location}<extra></extra>",
           "locationmode": "USA-states",
           "locations": [
            "AK",
            "ID",
            "IA",
            "KS",
            "KY",
            "MS",
            "MT",
            "NM",
            "NC",
            "SC",
            "SD",
            "TN",
            "VT",
            "WV",
            "WY"
           ],
           "name": "True",
           "showlegend": true,
           "showscale": false,
           "type": "choropleth",
           "z": [
            1,
            1,
            1,
            1,
            1,
            1,
            1,
            1,
            1,
            1,
            1,
            1,
            1,
            1,
            1
           ]
          }
         ],
         "name": "Jan 2025"
        }
       ],
       "layout": {
        "geo": {
         "center": {},
         "domain": {
          "x": [
           0,
           1
          ],
          "y": [
           0,
           1
          ]
         },
         "scope": "usa"
        },
        "height": 600,
        "legend": {
         "title": {
          "text": "emp recovered"
         },
         "tracegroupgap": 0
        },
        "sliders": [
         {
          "active": 0,
          "currentvalue": {
           "prefix": "year_label="
          },
          "len": 0.9,
          "pad": {
           "b": 10,
           "t": 60
          },
          "steps": [
           {
            "args": [
             [
              "Jan 2021"
             ],
             {
              "frame": {
               "duration": 0,
               "redraw": true
              },
              "fromcurrent": true,
              "mode": "immediate",
              "transition": {
               "duration": 0,
               "easing": "linear"
              }
             }
            ],
            "label": "Jan 2021",
            "method": "animate"
           },
           {
            "args": [
             [
              "Jan 2022"
             ],
             {
              "frame": {
               "duration": 0,
               "redraw": true
              },
              "fromcurrent": true,
              "mode": "immediate",
              "transition": {
               "duration": 0,
               "easing": "linear"
              }
             }
            ],
            "label": "Jan 2022",
            "method": "animate"
           },
           {
            "args": [
             [
              "Jan 2023"
             ],
             {
              "frame": {
               "duration": 0,
               "redraw": true
              },
              "fromcurrent": true,
              "mode": "immediate",
              "transition": {
               "duration": 0,
               "easing": "linear"
              }
             }
            ],
            "label": "Jan 2023",
            "method": "animate"
           },
           {
            "args": [
             [
              "Jan 2024"
             ],
             {
              "frame": {
               "duration": 0,
               "redraw": true
              },
              "fromcurrent": true,
              "mode": "immediate",
              "transition": {
               "duration": 0,
               "easing": "linear"
              }
             }
            ],
            "label": "Jan 2024",
            "method": "animate"
           },
           {
            "args": [
             [
              "Jan 2025"
             ],
             {
              "frame": {
               "duration": 0,
               "redraw": true
              },
              "fromcurrent": true,
              "mode": "immediate",
              "transition": {
               "duration": 0,
               "easing": "linear"
              }
             }
            ],
            "label": "Jan 2025",
            "method": "animate"
           }
          ],
          "x": 0.1,
          "xanchor": "left",
          "y": 0,
          "yanchor": "top"
         }
        ],
        "template": {
         "data": {
          "bar": [
           {
            "error_x": {
             "color": "#2a3f5f"
            },
            "error_y": {
             "color": "#2a3f5f"
            },
            "marker": {
             "line": {
              "color": "#E5ECF6",
              "width": 0.5
             },
             "pattern": {
              "fillmode": "overlay",
              "size": 10,
              "solidity": 0.2
             }
            },
            "type": "bar"
           }
          ],
          "barpolar": [
           {
            "marker": {
             "line": {
              "color": "#E5ECF6",
              "width": 0.5
             },
             "pattern": {
              "fillmode": "overlay",
              "size": 10,
              "solidity": 0.2
             }
            },
            "type": "barpolar"
           }
          ],
          "carpet": [
           {
            "aaxis": {
             "endlinecolor": "#2a3f5f",
             "gridcolor": "white",
             "linecolor": "white",
             "minorgridcolor": "white",
             "startlinecolor": "#2a3f5f"
            },
            "baxis": {
             "endlinecolor": "#2a3f5f",
             "gridcolor": "white",
             "linecolor": "white",
             "minorgridcolor": "white",
             "startlinecolor": "#2a3f5f"
            },
            "type": "carpet"
           }
          ],
          "choropleth": [
           {
            "colorbar": {
             "outlinewidth": 0,
             "ticks": ""
            },
            "type": "choropleth"
           }
          ],
          "contour": [
           {
            "colorbar": {
             "outlinewidth": 0,
             "ticks": ""
            },
            "colorscale": [
             [
              0,
              "#0d0887"
             ],
             [
              0.1111111111111111,
              "#46039f"
             ],
             [
              0.2222222222222222,
              "#7201a8"
             ],
             [
              0.3333333333333333,
              "#9c179e"
             ],
             [
              0.4444444444444444,
              "#bd3786"
             ],
             [
              0.5555555555555556,
              "#d8576b"
             ],
             [
              0.6666666666666666,
              "#ed7953"
             ],
             [
              0.7777777777777778,
              "#fb9f3a"
             ],
             [
              0.8888888888888888,
              "#fdca26"
             ],
             [
              1,
              "#f0f921"
             ]
            ],
            "type": "contour"
           }
          ],
          "contourcarpet": [
           {
            "colorbar": {
             "outlinewidth": 0,
             "ticks": ""
            },
            "type": "contourcarpet"
           }
          ],
          "heatmap": [
           {
            "colorbar": {
             "outlinewidth": 0,
             "ticks": ""
            },
            "colorscale": [
             [
              0,
              "#0d0887"
             ],
             [
              0.1111111111111111,
              "#46039f"
             ],
             [
              0.2222222222222222,
              "#7201a8"
             ],
             [
              0.3333333333333333,
              "#9c179e"
             ],
             [
              0.4444444444444444,
              "#bd3786"
             ],
             [
              0.5555555555555556,
              "#d8576b"
             ],
             [
              0.6666666666666666,
              "#ed7953"
             ],
             [
              0.7777777777777778,
              "#fb9f3a"
             ],
             [
              0.8888888888888888,
              "#fdca26"
             ],
             [
              1,
              "#f0f921"
             ]
            ],
            "type": "heatmap"
           }
          ],
          "histogram": [
           {
            "marker": {
             "pattern": {
              "fillmode": "overlay",
              "size": 10,
              "solidity": 0.2
             }
            },
            "type": "histogram"
           }
          ],
          "histogram2d": [
           {
            "colorbar": {
             "outlinewidth": 0,
             "ticks": ""
            },
            "colorscale": [
             [
              0,
              "#0d0887"
             ],
             [
              0.1111111111111111,
              "#46039f"
             ],
             [
              0.2222222222222222,
              "#7201a8"
             ],
             [
              0.3333333333333333,
              "#9c179e"
             ],
             [
              0.4444444444444444,
              "#bd3786"
             ],
             [
              0.5555555555555556,
              "#d8576b"
             ],
             [
              0.6666666666666666,
              "#ed7953"
             ],
             [
              0.7777777777777778,
              "#fb9f3a"
             ],
             [
              0.8888888888888888,
              "#fdca26"
             ],
             [
              1,
              "#f0f921"
             ]
            ],
            "type": "histogram2d"
           }
          ],
          "histogram2dcontour": [
           {
            "colorbar": {
             "outlinewidth": 0,
             "ticks": ""
            },
            "colorscale": [
             [
              0,
              "#0d0887"
             ],
             [
              0.1111111111111111,
              "#46039f"
             ],
             [
              0.2222222222222222,
              "#7201a8"
             ],
             [
              0.3333333333333333,
              "#9c179e"
             ],
             [
              0.4444444444444444,
              "#bd3786"
             ],
             [
              0.5555555555555556,
              "#d8576b"
             ],
             [
              0.6666666666666666,
              "#ed7953"
             ],
             [
              0.7777777777777778,
              "#fb9f3a"
             ],
             [
              0.8888888888888888,
              "#fdca26"
             ],
             [
              1,
              "#f0f921"
             ]
            ],
            "type": "histogram2dcontour"
           }
          ],
          "mesh3d": [
           {
            "colorbar": {
             "outlinewidth": 0,
             "ticks": ""
            },
            "type": "mesh3d"
           }
          ],
          "parcoords": [
           {
            "line": {
             "colorbar": {
              "outlinewidth": 0,
              "ticks": ""
             }
            },
            "type": "parcoords"
           }
          ],
          "pie": [
           {
            "automargin": true,
            "type": "pie"
           }
          ],
          "scatter": [
           {
            "fillpattern": {
             "fillmode": "overlay",
             "size": 10,
             "solidity": 0.2
            },
            "type": "scatter"
           }
          ],
          "scatter3d": [
           {
            "line": {
             "colorbar": {
              "outlinewidth": 0,
              "ticks": ""
             }
            },
            "marker": {
             "colorbar": {
              "outlinewidth": 0,
              "ticks": ""
             }
            },
            "type": "scatter3d"
           }
          ],
          "scattercarpet": [
           {
            "marker": {
             "colorbar": {
              "outlinewidth": 0,
              "ticks": ""
             }
            },
            "type": "scattercarpet"
           }
          ],
          "scattergeo": [
           {
            "marker": {
             "colorbar": {
              "outlinewidth": 0,
              "ticks": ""
             }
            },
            "type": "scattergeo"
           }
          ],
          "scattergl": [
           {
            "marker": {
             "colorbar": {
              "outlinewidth": 0,
              "ticks": ""
             }
            },
            "type": "scattergl"
           }
          ],
          "scattermap": [
           {
            "marker": {
             "colorbar": {
              "outlinewidth": 0,
              "ticks": ""
             }
            },
            "type": "scattermap"
           }
          ],
          "scattermapbox": [
           {
            "marker": {
             "colorbar": {
              "outlinewidth": 0,
              "ticks": ""
             }
            },
            "type": "scattermapbox"
           }
          ],
          "scatterpolar": [
           {
            "marker": {
             "colorbar": {
              "outlinewidth": 0,
              "ticks": ""
             }
            },
            "type": "scatterpolar"
           }
          ],
          "scatterpolargl": [
           {
            "marker": {
             "colorbar": {
              "outlinewidth": 0,
              "ticks": ""
             }
            },
            "type": "scatterpolargl"
           }
          ],
          "scatterternary": [
           {
            "marker": {
             "colorbar": {
              "outlinewidth": 0,
              "ticks": ""
             }
            },
            "type": "scatterternary"
           }
          ],
          "surface": [
           {
            "colorbar": {
             "outlinewidth": 0,
             "ticks": ""
            },
            "colorscale": [
             [
              0,
              "#0d0887"
             ],
             [
              0.1111111111111111,
              "#46039f"
             ],
             [
              0.2222222222222222,
              "#7201a8"
             ],
             [
              0.3333333333333333,
              "#9c179e"
             ],
             [
              0.4444444444444444,
              "#bd3786"
             ],
             [
              0.5555555555555556,
              "#d8576b"
             ],
             [
              0.6666666666666666,
              "#ed7953"
             ],
             [
              0.7777777777777778,
              "#fb9f3a"
             ],
             [
              0.8888888888888888,
              "#fdca26"
             ],
             [
              1,
              "#f0f921"
             ]
            ],
            "type": "surface"
           }
          ],
          "table": [
           {
            "cells": {
             "fill": {
              "color": "#EBF0F8"
             },
             "line": {
              "color": "white"
             }
            },
            "header": {
             "fill": {
              "color": "#C8D4E3"
             },
             "line": {
              "color": "white"
             }
            },
            "type": "table"
           }
          ]
         },
         "layout": {
          "annotationdefaults": {
           "arrowcolor": "#2a3f5f",
           "arrowhead": 0,
           "arrowwidth": 1
          },
          "autotypenumbers": "strict",
          "coloraxis": {
           "colorbar": {
            "outlinewidth": 0,
            "ticks": ""
           }
          },
          "colorscale": {
           "diverging": [
            [
             0,
             "#8e0152"
            ],
            [
             0.1,
             "#c51b7d"
            ],
            [
             0.2,
             "#de77ae"
            ],
            [
             0.3,
             "#f1b6da"
            ],
            [
             0.4,
             "#fde0ef"
            ],
            [
             0.5,
             "#f7f7f7"
            ],
            [
             0.6,
             "#e6f5d0"
            ],
            [
             0.7,
             "#b8e186"
            ],
            [
             0.8,
             "#7fbc41"
            ],
            [
             0.9,
             "#4d9221"
            ],
            [
             1,
             "#276419"
            ]
           ],
           "sequential": [
            [
             0,
             "#0d0887"
            ],
            [
             0.1111111111111111,
             "#46039f"
            ],
            [
             0.2222222222222222,
             "#7201a8"
            ],
            [
             0.3333333333333333,
             "#9c179e"
            ],
            [
             0.4444444444444444,
             "#bd3786"
            ],
            [
             0.5555555555555556,
             "#d8576b"
            ],
            [
             0.6666666666666666,
             "#ed7953"
            ],
            [
             0.7777777777777778,
             "#fb9f3a"
            ],
            [
             0.8888888888888888,
             "#fdca26"
            ],
            [
             1,
             "#f0f921"
            ]
           ],
           "sequentialminus": [
            [
             0,
             "#0d0887"
            ],
            [
             0.1111111111111111,
             "#46039f"
            ],
            [
             0.2222222222222222,
             "#7201a8"
            ],
            [
             0.3333333333333333,
             "#9c179e"
            ],
            [
             0.4444444444444444,
             "#bd3786"
            ],
            [
             0.5555555555555556,
             "#d8576b"
            ],
            [
             0.6666666666666666,
             "#ed7953"
            ],
            [
             0.7777777777777778,
             "#fb9f3a"
            ],
            [
             0.8888888888888888,
             "#fdca26"
            ],
            [
             1,
             "#f0f921"
            ]
           ]
          },
          "colorway": [
           "#636efa",
           "#EF553B",
           "#00cc96",
           "#ab63fa",
           "#FFA15A",
           "#19d3f3",
           "#FF6692",
           "#B6E880",
           "#FF97FF",
           "#FECB52"
          ],
          "font": {
           "color": "#2a3f5f"
          },
          "geo": {
           "bgcolor": "white",
           "lakecolor": "white",
           "landcolor": "#E5ECF6",
           "showlakes": true,
           "showland": true,
           "subunitcolor": "white"
          },
          "hoverlabel": {
           "align": "left"
          },
          "hovermode": "closest",
          "mapbox": {
           "style": "light"
          },
          "paper_bgcolor": "white",
          "plot_bgcolor": "#E5ECF6",
          "polar": {
           "angularaxis": {
            "gridcolor": "white",
            "linecolor": "white",
            "ticks": ""
           },
           "bgcolor": "#E5ECF6",
           "radialaxis": {
            "gridcolor": "white",
            "linecolor": "white",
            "ticks": ""
           }
          },
          "scene": {
           "xaxis": {
            "backgroundcolor": "#E5ECF6",
            "gridcolor": "white",
            "gridwidth": 2,
            "linecolor": "white",
            "showbackground": true,
            "ticks": "",
            "zerolinecolor": "white"
           },
           "yaxis": {
            "backgroundcolor": "#E5ECF6",
            "gridcolor": "white",
            "gridwidth": 2,
            "linecolor": "white",
            "showbackground": true,
            "ticks": "",
            "zerolinecolor": "white"
           },
           "zaxis": {
            "backgroundcolor": "#E5ECF6",
            "gridcolor": "white",
            "gridwidth": 2,
            "linecolor": "white",
            "showbackground": true,
            "ticks": "",
            "zerolinecolor": "white"
           }
          },
          "shapedefaults": {
           "line": {
            "color": "#2a3f5f"
           }
          },
          "ternary": {
           "aaxis": {
            "gridcolor": "white",
            "linecolor": "white",
            "ticks": ""
           },
           "baxis": {
            "gridcolor": "white",
            "linecolor": "white",
            "ticks": ""
           },
           "bgcolor": "#E5ECF6",
           "caxis": {
            "gridcolor": "white",
            "linecolor": "white",
            "ticks": ""
           }
          },
          "title": {
           "x": 0.05
          },
          "xaxis": {
           "automargin": true,
           "gridcolor": "white",
           "linecolor": "white",
           "ticks": "",
           "title": {
            "standoff": 15
           },
           "zerolinecolor": "white",
           "zerolinewidth": 2
          },
          "yaxis": {
           "automargin": true,
           "gridcolor": "white",
           "linecolor": "white",
           "ticks": "",
           "title": {
            "standoff": 15
           },
           "zerolinecolor": "white",
           "zerolinewidth": 2
          }
         }
        },
        "title": {
         "text": "Employment Rate Recovery by State (Jan 2021–2025)"
        },
        "updatemenus": [
         {
          "buttons": [
           {
            "args": [
             null,
             {
              "frame": {
               "duration": 500,
               "redraw": true
              },
              "fromcurrent": true,
              "mode": "immediate",
              "transition": {
               "duration": 500,
               "easing": "linear"
              }
             }
            ],
            "label": "&#9654;",
            "method": "animate"
           },
           {
            "args": [
             [
              null
             ],
             {
              "frame": {
               "duration": 0,
               "redraw": true
              },
              "fromcurrent": true,
              "mode": "immediate",
              "transition": {
               "duration": 0,
               "easing": "linear"
              }
             }
            ],
            "label": "&#9724;",
            "method": "animate"
           }
          ],
          "direction": "left",
          "pad": {
           "r": 10,
           "t": 70
          },
          "showactive": false,
          "type": "buttons",
          "x": 0.1,
          "xanchor": "right",
          "y": 0,
          "yanchor": "top"
         }
        ],
        "width": 1000
       }
      }
     },
     "metadata": {},
     "output_type": "display_data"
    }
   ],
   "source": [
    "# view emp recovery rates for each state every year after covid-19\n",
    "\n",
    "fig = px.choropleth(\n",
    "    df_jan,\n",
    "    locations='state_abbrev',\n",
    "    locationmode='USA-states',\n",
    "    color='emp recovered',\n",
    "    color_discrete_map={True: '#96b9d0', False: '#ffd5b6'},\n",
    "    scope='usa',\n",
    "    animation_frame='year_label', \n",
    "    title='Employment Rate Recovery by State (Jan 2021–2025)',\n",
    "    width=1000,\n",
    "    height=600,\n",
    ")\n",
    "\n",
    "\n",
    "fig.show()\n"
   ]
  },
  {
   "cell_type": "code",
   "execution_count": null,
   "metadata": {},
   "outputs": [],
   "source": []
  },
  {
   "cell_type": "code",
   "execution_count": null,
   "metadata": {},
   "outputs": [],
   "source": []
  }
 ],
 "metadata": {
  "kernelspec": {
   "display_name": "Python 3",
   "language": "python",
   "name": "python3"
  },
  "language_info": {
   "codemirror_mode": {
    "name": "ipython",
    "version": 3
   },
   "file_extension": ".py",
   "mimetype": "text/x-python",
   "name": "python",
   "nbconvert_exporter": "python",
   "pygments_lexer": "ipython3",
   "version": "3.11.5"
  }
 },
 "nbformat": 4,
 "nbformat_minor": 2
}
